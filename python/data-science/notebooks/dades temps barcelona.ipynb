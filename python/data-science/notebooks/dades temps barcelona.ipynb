{
 "cells": [
  {
   "cell_type": "code",
   "execution_count": 85,
   "metadata": {},
   "outputs": [],
   "source": [
    "import pandas as pd\n",
    "import numpy as np\n",
    "import matplotlib.pyplot as plt"
   ]
  },
  {
   "cell_type": "code",
   "execution_count": 7,
   "metadata": {},
   "outputs": [],
   "source": [
    "df=pd.read_csv('../datasets/Barcelona-Weather/Barcelona-Weather.csv', parse_dates=['DATE'], low_memory=False)"
   ]
  },
  {
   "cell_type": "code",
   "execution_count": 8,
   "metadata": {},
   "outputs": [
    {
     "data": {
      "text/html": [
       "<div>\n",
       "<style scoped>\n",
       "    .dataframe tbody tr th:only-of-type {\n",
       "        vertical-align: middle;\n",
       "    }\n",
       "\n",
       "    .dataframe tbody tr th {\n",
       "        vertical-align: top;\n",
       "    }\n",
       "\n",
       "    .dataframe thead th {\n",
       "        text-align: right;\n",
       "    }\n",
       "</style>\n",
       "<table border=\"1\" class=\"dataframe\">\n",
       "  <thead>\n",
       "    <tr style=\"text-align: right;\">\n",
       "      <th></th>\n",
       "      <th>STATION</th>\n",
       "      <th>NAME</th>\n",
       "      <th>LATITUDE</th>\n",
       "      <th>LONGITUDE</th>\n",
       "      <th>ELEVATION</th>\n",
       "      <th>DATE</th>\n",
       "      <th>PRCP</th>\n",
       "      <th>PRCP_ATTRIBUTES</th>\n",
       "      <th>SNWD</th>\n",
       "      <th>SNWD_ATTRIBUTES</th>\n",
       "      <th>TAVG</th>\n",
       "      <th>TAVG_ATTRIBUTES</th>\n",
       "      <th>TMAX</th>\n",
       "      <th>TMAX_ATTRIBUTES</th>\n",
       "      <th>TMIN</th>\n",
       "      <th>TMIN_ATTRIBUTES</th>\n",
       "    </tr>\n",
       "  </thead>\n",
       "  <tbody>\n",
       "    <tr>\n",
       "      <th>0</th>\n",
       "      <td>SPE00119891</td>\n",
       "      <td>BARCELONA, SP</td>\n",
       "      <td>41.4192</td>\n",
       "      <td>2.1253</td>\n",
       "      <td>412.0</td>\n",
       "      <td>1920-01-01</td>\n",
       "      <td>3.5</td>\n",
       "      <td>,,E</td>\n",
       "      <td>NaN</td>\n",
       "      <td>NaN</td>\n",
       "      <td>NaN</td>\n",
       "      <td>NaN</td>\n",
       "      <td>NaN</td>\n",
       "      <td>NaN</td>\n",
       "      <td>NaN</td>\n",
       "      <td>NaN</td>\n",
       "    </tr>\n",
       "    <tr>\n",
       "      <th>1</th>\n",
       "      <td>SPE00119891</td>\n",
       "      <td>BARCELONA, SP</td>\n",
       "      <td>41.4192</td>\n",
       "      <td>2.1253</td>\n",
       "      <td>412.0</td>\n",
       "      <td>1920-01-02</td>\n",
       "      <td>0.0</td>\n",
       "      <td>,,E</td>\n",
       "      <td>NaN</td>\n",
       "      <td>NaN</td>\n",
       "      <td>NaN</td>\n",
       "      <td>NaN</td>\n",
       "      <td>NaN</td>\n",
       "      <td>NaN</td>\n",
       "      <td>NaN</td>\n",
       "      <td>NaN</td>\n",
       "    </tr>\n",
       "    <tr>\n",
       "      <th>2</th>\n",
       "      <td>SPE00119891</td>\n",
       "      <td>BARCELONA, SP</td>\n",
       "      <td>41.4192</td>\n",
       "      <td>2.1253</td>\n",
       "      <td>412.0</td>\n",
       "      <td>1920-01-03</td>\n",
       "      <td>0.0</td>\n",
       "      <td>,,E</td>\n",
       "      <td>NaN</td>\n",
       "      <td>NaN</td>\n",
       "      <td>NaN</td>\n",
       "      <td>NaN</td>\n",
       "      <td>NaN</td>\n",
       "      <td>NaN</td>\n",
       "      <td>NaN</td>\n",
       "      <td>NaN</td>\n",
       "    </tr>\n",
       "    <tr>\n",
       "      <th>3</th>\n",
       "      <td>SPE00119891</td>\n",
       "      <td>BARCELONA, SP</td>\n",
       "      <td>41.4192</td>\n",
       "      <td>2.1253</td>\n",
       "      <td>412.0</td>\n",
       "      <td>1920-01-04</td>\n",
       "      <td>16.3</td>\n",
       "      <td>,,E</td>\n",
       "      <td>NaN</td>\n",
       "      <td>NaN</td>\n",
       "      <td>NaN</td>\n",
       "      <td>NaN</td>\n",
       "      <td>NaN</td>\n",
       "      <td>NaN</td>\n",
       "      <td>NaN</td>\n",
       "      <td>NaN</td>\n",
       "    </tr>\n",
       "    <tr>\n",
       "      <th>4</th>\n",
       "      <td>SPE00119891</td>\n",
       "      <td>BARCELONA, SP</td>\n",
       "      <td>41.4192</td>\n",
       "      <td>2.1253</td>\n",
       "      <td>412.0</td>\n",
       "      <td>1920-01-05</td>\n",
       "      <td>7.9</td>\n",
       "      <td>,,E</td>\n",
       "      <td>NaN</td>\n",
       "      <td>NaN</td>\n",
       "      <td>NaN</td>\n",
       "      <td>NaN</td>\n",
       "      <td>NaN</td>\n",
       "      <td>NaN</td>\n",
       "      <td>NaN</td>\n",
       "      <td>NaN</td>\n",
       "    </tr>\n",
       "  </tbody>\n",
       "</table>\n",
       "</div>"
      ],
      "text/plain": [
       "       STATION           NAME  LATITUDE  LONGITUDE  ELEVATION       DATE  \\\n",
       "0  SPE00119891  BARCELONA, SP   41.4192     2.1253      412.0 1920-01-01   \n",
       "1  SPE00119891  BARCELONA, SP   41.4192     2.1253      412.0 1920-01-02   \n",
       "2  SPE00119891  BARCELONA, SP   41.4192     2.1253      412.0 1920-01-03   \n",
       "3  SPE00119891  BARCELONA, SP   41.4192     2.1253      412.0 1920-01-04   \n",
       "4  SPE00119891  BARCELONA, SP   41.4192     2.1253      412.0 1920-01-05   \n",
       "\n",
       "   PRCP PRCP_ATTRIBUTES  SNWD SNWD_ATTRIBUTES  TAVG TAVG_ATTRIBUTES  TMAX  \\\n",
       "0   3.5             ,,E   NaN             NaN   NaN             NaN   NaN   \n",
       "1   0.0             ,,E   NaN             NaN   NaN             NaN   NaN   \n",
       "2   0.0             ,,E   NaN             NaN   NaN             NaN   NaN   \n",
       "3  16.3             ,,E   NaN             NaN   NaN             NaN   NaN   \n",
       "4   7.9             ,,E   NaN             NaN   NaN             NaN   NaN   \n",
       "\n",
       "  TMAX_ATTRIBUTES  TMIN TMIN_ATTRIBUTES  \n",
       "0             NaN   NaN             NaN  \n",
       "1             NaN   NaN             NaN  \n",
       "2             NaN   NaN             NaN  \n",
       "3             NaN   NaN             NaN  \n",
       "4             NaN   NaN             NaN  "
      ]
     },
     "execution_count": 8,
     "metadata": {},
     "output_type": "execute_result"
    }
   ],
   "source": [
    "df.head()"
   ]
  },
  {
   "cell_type": "code",
   "execution_count": 28,
   "metadata": {},
   "outputs": [
    {
     "data": {
      "text/plain": [
       "STATION                    object\n",
       "NAME                       object\n",
       "LATITUDE                  float64\n",
       "LONGITUDE                 float64\n",
       "ELEVATION                 float64\n",
       "DATE               datetime64[ns]\n",
       "PRCP                      float64\n",
       "PRCP_ATTRIBUTES            object\n",
       "SNWD                      float64\n",
       "SNWD_ATTRIBUTES            object\n",
       "TAVG                      float64\n",
       "TAVG_ATTRIBUTES            object\n",
       "TMAX                      float64\n",
       "TMAX_ATTRIBUTES            object\n",
       "TMIN                      float64\n",
       "TMIN_ATTRIBUTES            object\n",
       "dtype: object"
      ]
     },
     "execution_count": 28,
     "metadata": {},
     "output_type": "execute_result"
    }
   ],
   "source": [
    "df.dtypes"
   ]
  },
  {
   "cell_type": "code",
   "execution_count": 11,
   "metadata": {},
   "outputs": [
    {
     "data": {
      "text/html": [
       "<div>\n",
       "<style scoped>\n",
       "    .dataframe tbody tr th:only-of-type {\n",
       "        vertical-align: middle;\n",
       "    }\n",
       "\n",
       "    .dataframe tbody tr th {\n",
       "        vertical-align: top;\n",
       "    }\n",
       "\n",
       "    .dataframe thead th {\n",
       "        text-align: right;\n",
       "    }\n",
       "</style>\n",
       "<table border=\"1\" class=\"dataframe\">\n",
       "  <thead>\n",
       "    <tr style=\"text-align: right;\">\n",
       "      <th></th>\n",
       "      <th>LATITUDE</th>\n",
       "      <th>LONGITUDE</th>\n",
       "      <th>ELEVATION</th>\n",
       "      <th>PRCP</th>\n",
       "      <th>SNWD</th>\n",
       "      <th>TAVG</th>\n",
       "      <th>TMAX</th>\n",
       "      <th>TMIN</th>\n",
       "    </tr>\n",
       "  </thead>\n",
       "  <tbody>\n",
       "    <tr>\n",
       "      <th>count</th>\n",
       "      <td>67809.000000</td>\n",
       "      <td>67809.000000</td>\n",
       "      <td>67809.000000</td>\n",
       "      <td>65970.000000</td>\n",
       "      <td>2.000000</td>\n",
       "      <td>16360.000000</td>\n",
       "      <td>61187.000000</td>\n",
       "      <td>60985.000000</td>\n",
       "    </tr>\n",
       "    <tr>\n",
       "      <th>mean</th>\n",
       "      <td>41.359123</td>\n",
       "      <td>2.098874</td>\n",
       "      <td>218.081317</td>\n",
       "      <td>1.612454</td>\n",
       "      <td>430.500000</td>\n",
       "      <td>15.919719</td>\n",
       "      <td>19.346832</td>\n",
       "      <td>11.474661</td>\n",
       "    </tr>\n",
       "    <tr>\n",
       "      <th>std</th>\n",
       "      <td>0.063123</td>\n",
       "      <td>0.027766</td>\n",
       "      <td>203.752250</td>\n",
       "      <td>6.539843</td>\n",
       "      <td>580.534667</td>\n",
       "      <td>5.942094</td>\n",
       "      <td>6.476205</td>\n",
       "      <td>5.927301</td>\n",
       "    </tr>\n",
       "    <tr>\n",
       "      <th>min</th>\n",
       "      <td>41.292800</td>\n",
       "      <td>2.069700</td>\n",
       "      <td>4.000000</td>\n",
       "      <td>0.000000</td>\n",
       "      <td>20.000000</td>\n",
       "      <td>-2.100000</td>\n",
       "      <td>-1.800000</td>\n",
       "      <td>-10.000000</td>\n",
       "    </tr>\n",
       "    <tr>\n",
       "      <th>25%</th>\n",
       "      <td>41.292800</td>\n",
       "      <td>2.069700</td>\n",
       "      <td>4.000000</td>\n",
       "      <td>0.000000</td>\n",
       "      <td>225.250000</td>\n",
       "      <td>11.100000</td>\n",
       "      <td>14.400000</td>\n",
       "      <td>6.800000</td>\n",
       "    </tr>\n",
       "    <tr>\n",
       "      <th>50%</th>\n",
       "      <td>41.419200</td>\n",
       "      <td>2.125300</td>\n",
       "      <td>412.000000</td>\n",
       "      <td>0.000000</td>\n",
       "      <td>430.500000</td>\n",
       "      <td>15.300000</td>\n",
       "      <td>19.000000</td>\n",
       "      <td>11.000000</td>\n",
       "    </tr>\n",
       "    <tr>\n",
       "      <th>75%</th>\n",
       "      <td>41.419200</td>\n",
       "      <td>2.125300</td>\n",
       "      <td>412.000000</td>\n",
       "      <td>0.000000</td>\n",
       "      <td>635.750000</td>\n",
       "      <td>21.200000</td>\n",
       "      <td>24.800000</td>\n",
       "      <td>16.500000</td>\n",
       "    </tr>\n",
       "    <tr>\n",
       "      <th>max</th>\n",
       "      <td>41.419200</td>\n",
       "      <td>2.125300</td>\n",
       "      <td>412.000000</td>\n",
       "      <td>186.700000</td>\n",
       "      <td>841.000000</td>\n",
       "      <td>29.800000</td>\n",
       "      <td>38.400000</td>\n",
       "      <td>27.800000</td>\n",
       "    </tr>\n",
       "  </tbody>\n",
       "</table>\n",
       "</div>"
      ],
      "text/plain": [
       "           LATITUDE     LONGITUDE     ELEVATION          PRCP        SNWD  \\\n",
       "count  67809.000000  67809.000000  67809.000000  65970.000000    2.000000   \n",
       "mean      41.359123      2.098874    218.081317      1.612454  430.500000   \n",
       "std        0.063123      0.027766    203.752250      6.539843  580.534667   \n",
       "min       41.292800      2.069700      4.000000      0.000000   20.000000   \n",
       "25%       41.292800      2.069700      4.000000      0.000000  225.250000   \n",
       "50%       41.419200      2.125300    412.000000      0.000000  430.500000   \n",
       "75%       41.419200      2.125300    412.000000      0.000000  635.750000   \n",
       "max       41.419200      2.125300    412.000000    186.700000  841.000000   \n",
       "\n",
       "               TAVG          TMAX          TMIN  \n",
       "count  16360.000000  61187.000000  60985.000000  \n",
       "mean      15.919719     19.346832     11.474661  \n",
       "std        5.942094      6.476205      5.927301  \n",
       "min       -2.100000     -1.800000    -10.000000  \n",
       "25%       11.100000     14.400000      6.800000  \n",
       "50%       15.300000     19.000000     11.000000  \n",
       "75%       21.200000     24.800000     16.500000  \n",
       "max       29.800000     38.400000     27.800000  "
      ]
     },
     "execution_count": 11,
     "metadata": {},
     "output_type": "execute_result"
    }
   ],
   "source": [
    "df.describe()\n"
   ]
  },
  {
   "cell_type": "code",
   "execution_count": 29,
   "metadata": {},
   "outputs": [
    {
     "data": {
      "text/plain": [
       "(67809, 16)"
      ]
     },
     "execution_count": 29,
     "metadata": {},
     "output_type": "execute_result"
    }
   ],
   "source": [
    "df.shape"
   ]
  },
  {
   "cell_type": "code",
   "execution_count": 12,
   "metadata": {},
   "outputs": [
    {
     "data": {
      "text/plain": [
       "STATION            67809\n",
       "NAME               67809\n",
       "LATITUDE           67809\n",
       "LONGITUDE          67809\n",
       "ELEVATION          67809\n",
       "DATE               67809\n",
       "PRCP               65970\n",
       "PRCP_ATTRIBUTES    65970\n",
       "SNWD                   2\n",
       "SNWD_ATTRIBUTES        2\n",
       "TAVG               16360\n",
       "TAVG_ATTRIBUTES    16360\n",
       "TMAX               61187\n",
       "TMAX_ATTRIBUTES    61187\n",
       "TMIN               60985\n",
       "TMIN_ATTRIBUTES    60985\n",
       "dtype: int64"
      ]
     },
     "execution_count": 12,
     "metadata": {},
     "output_type": "execute_result"
    }
   ],
   "source": [
    "df.count()"
   ]
  },
  {
   "cell_type": "code",
   "execution_count": 19,
   "metadata": {},
   "outputs": [
    {
     "data": {
      "text/html": [
       "<div>\n",
       "<style scoped>\n",
       "    .dataframe tbody tr th:only-of-type {\n",
       "        vertical-align: middle;\n",
       "    }\n",
       "\n",
       "    .dataframe tbody tr th {\n",
       "        vertical-align: top;\n",
       "    }\n",
       "\n",
       "    .dataframe thead th {\n",
       "        text-align: right;\n",
       "    }\n",
       "</style>\n",
       "<table border=\"1\" class=\"dataframe\">\n",
       "  <thead>\n",
       "    <tr style=\"text-align: right;\">\n",
       "      <th></th>\n",
       "      <th>SNWD</th>\n",
       "      <th>SNWD_ATTRIBUTES</th>\n",
       "    </tr>\n",
       "  </thead>\n",
       "  <tbody>\n",
       "    <tr>\n",
       "      <th>0</th>\n",
       "      <td>NaN</td>\n",
       "      <td>NaN</td>\n",
       "    </tr>\n",
       "    <tr>\n",
       "      <th>1</th>\n",
       "      <td>NaN</td>\n",
       "      <td>NaN</td>\n",
       "    </tr>\n",
       "    <tr>\n",
       "      <th>2</th>\n",
       "      <td>NaN</td>\n",
       "      <td>NaN</td>\n",
       "    </tr>\n",
       "    <tr>\n",
       "      <th>3</th>\n",
       "      <td>NaN</td>\n",
       "      <td>NaN</td>\n",
       "    </tr>\n",
       "    <tr>\n",
       "      <th>4</th>\n",
       "      <td>NaN</td>\n",
       "      <td>NaN</td>\n",
       "    </tr>\n",
       "    <tr>\n",
       "      <th>5</th>\n",
       "      <td>NaN</td>\n",
       "      <td>NaN</td>\n",
       "    </tr>\n",
       "    <tr>\n",
       "      <th>6</th>\n",
       "      <td>NaN</td>\n",
       "      <td>NaN</td>\n",
       "    </tr>\n",
       "    <tr>\n",
       "      <th>7</th>\n",
       "      <td>NaN</td>\n",
       "      <td>NaN</td>\n",
       "    </tr>\n",
       "    <tr>\n",
       "      <th>8</th>\n",
       "      <td>NaN</td>\n",
       "      <td>NaN</td>\n",
       "    </tr>\n",
       "    <tr>\n",
       "      <th>9</th>\n",
       "      <td>NaN</td>\n",
       "      <td>NaN</td>\n",
       "    </tr>\n",
       "  </tbody>\n",
       "</table>\n",
       "</div>"
      ],
      "text/plain": [
       "   SNWD SNWD_ATTRIBUTES\n",
       "0   NaN             NaN\n",
       "1   NaN             NaN\n",
       "2   NaN             NaN\n",
       "3   NaN             NaN\n",
       "4   NaN             NaN\n",
       "5   NaN             NaN\n",
       "6   NaN             NaN\n",
       "7   NaN             NaN\n",
       "8   NaN             NaN\n",
       "9   NaN             NaN"
      ]
     },
     "execution_count": 19,
     "metadata": {},
     "output_type": "execute_result"
    }
   ],
   "source": [
    "df[{'SNWD','SNWD_ATTRIBUTES'}][0:10]"
   ]
  },
  {
   "cell_type": "code",
   "execution_count": 13,
   "metadata": {},
   "outputs": [
    {
     "data": {
      "text/plain": [
       "STATION                0\n",
       "NAME                   0\n",
       "LATITUDE               0\n",
       "LONGITUDE              0\n",
       "ELEVATION              0\n",
       "DATE                   0\n",
       "PRCP                1839\n",
       "PRCP_ATTRIBUTES     1839\n",
       "SNWD               67807\n",
       "SNWD_ATTRIBUTES    67807\n",
       "TAVG               51449\n",
       "TAVG_ATTRIBUTES    51449\n",
       "TMAX                6622\n",
       "TMAX_ATTRIBUTES     6622\n",
       "TMIN                6824\n",
       "TMIN_ATTRIBUTES     6824\n",
       "dtype: int64"
      ]
     },
     "execution_count": 13,
     "metadata": {},
     "output_type": "execute_result"
    }
   ],
   "source": [
    "df.isnull().sum()"
   ]
  },
  {
   "cell_type": "code",
   "execution_count": 25,
   "metadata": {},
   "outputs": [
    {
     "data": {
      "text/html": [
       "<div>\n",
       "<style scoped>\n",
       "    .dataframe tbody tr th:only-of-type {\n",
       "        vertical-align: middle;\n",
       "    }\n",
       "\n",
       "    .dataframe tbody tr th {\n",
       "        vertical-align: top;\n",
       "    }\n",
       "\n",
       "    .dataframe thead th {\n",
       "        text-align: right;\n",
       "    }\n",
       "</style>\n",
       "<table border=\"1\" class=\"dataframe\">\n",
       "  <thead>\n",
       "    <tr style=\"text-align: right;\">\n",
       "      <th></th>\n",
       "      <th>STATION</th>\n",
       "      <th>NAME</th>\n",
       "      <th>LATITUDE</th>\n",
       "      <th>LONGITUDE</th>\n",
       "      <th>ELEVATION</th>\n",
       "      <th>DATE</th>\n",
       "      <th>PRCP</th>\n",
       "      <th>PRCP_ATTRIBUTES</th>\n",
       "      <th>SNWD</th>\n",
       "      <th>SNWD_ATTRIBUTES</th>\n",
       "      <th>TAVG</th>\n",
       "      <th>TAVG_ATTRIBUTES</th>\n",
       "      <th>TMAX</th>\n",
       "      <th>TMAX_ATTRIBUTES</th>\n",
       "      <th>TMIN</th>\n",
       "      <th>TMIN_ATTRIBUTES</th>\n",
       "    </tr>\n",
       "  </thead>\n",
       "  <tbody>\n",
       "    <tr>\n",
       "      <th>55133</th>\n",
       "      <td>SP000008181</td>\n",
       "      <td>BARCELONA AEROPUERTO, SP</td>\n",
       "      <td>41.2928</td>\n",
       "      <td>2.0697</td>\n",
       "      <td>4.0</td>\n",
       "      <td>1983-02-11</td>\n",
       "      <td>0.0</td>\n",
       "      <td>,,E</td>\n",
       "      <td>20.0</td>\n",
       "      <td>,,S</td>\n",
       "      <td>1.2</td>\n",
       "      <td>H,,S</td>\n",
       "      <td>7.0</td>\n",
       "      <td>,,E</td>\n",
       "      <td>-2.4</td>\n",
       "      <td>,,E</td>\n",
       "    </tr>\n",
       "    <tr>\n",
       "      <th>55375</th>\n",
       "      <td>SP000008181</td>\n",
       "      <td>BARCELONA AEROPUERTO, SP</td>\n",
       "      <td>41.2928</td>\n",
       "      <td>2.0697</td>\n",
       "      <td>4.0</td>\n",
       "      <td>1983-10-11</td>\n",
       "      <td>0.0</td>\n",
       "      <td>,,E</td>\n",
       "      <td>841.0</td>\n",
       "      <td>,,S</td>\n",
       "      <td>20.4</td>\n",
       "      <td>H,,S</td>\n",
       "      <td>24.4</td>\n",
       "      <td>,,E</td>\n",
       "      <td>17.6</td>\n",
       "      <td>,,E</td>\n",
       "    </tr>\n",
       "  </tbody>\n",
       "</table>\n",
       "</div>"
      ],
      "text/plain": [
       "           STATION                      NAME  LATITUDE  LONGITUDE  ELEVATION  \\\n",
       "55133  SP000008181  BARCELONA AEROPUERTO, SP   41.2928     2.0697        4.0   \n",
       "55375  SP000008181  BARCELONA AEROPUERTO, SP   41.2928     2.0697        4.0   \n",
       "\n",
       "            DATE  PRCP PRCP_ATTRIBUTES   SNWD SNWD_ATTRIBUTES  TAVG  \\\n",
       "55133 1983-02-11   0.0             ,,E   20.0             ,,S   1.2   \n",
       "55375 1983-10-11   0.0             ,,E  841.0             ,,S  20.4   \n",
       "\n",
       "      TAVG_ATTRIBUTES  TMAX TMAX_ATTRIBUTES  TMIN TMIN_ATTRIBUTES  \n",
       "55133            H,,S   7.0             ,,E  -2.4             ,,E  \n",
       "55375            H,,S  24.4             ,,E  17.6             ,,E  "
      ]
     },
     "execution_count": 25,
     "metadata": {},
     "output_type": "execute_result"
    }
   ],
   "source": [
    "df[df['SNWD'].notnull()]"
   ]
  },
  {
   "cell_type": "code",
   "execution_count": 26,
   "metadata": {},
   "outputs": [
    {
     "data": {
      "text/html": [
       "<div>\n",
       "<style scoped>\n",
       "    .dataframe tbody tr th:only-of-type {\n",
       "        vertical-align: middle;\n",
       "    }\n",
       "\n",
       "    .dataframe tbody tr th {\n",
       "        vertical-align: top;\n",
       "    }\n",
       "\n",
       "    .dataframe thead th {\n",
       "        text-align: right;\n",
       "    }\n",
       "</style>\n",
       "<table border=\"1\" class=\"dataframe\">\n",
       "  <thead>\n",
       "    <tr style=\"text-align: right;\">\n",
       "      <th></th>\n",
       "      <th>STATION</th>\n",
       "      <th>NAME</th>\n",
       "      <th>LATITUDE</th>\n",
       "      <th>LONGITUDE</th>\n",
       "      <th>ELEVATION</th>\n",
       "      <th>DATE</th>\n",
       "      <th>PRCP</th>\n",
       "      <th>PRCP_ATTRIBUTES</th>\n",
       "      <th>SNWD</th>\n",
       "      <th>SNWD_ATTRIBUTES</th>\n",
       "      <th>TAVG</th>\n",
       "      <th>TAVG_ATTRIBUTES</th>\n",
       "      <th>TMAX</th>\n",
       "      <th>TMAX_ATTRIBUTES</th>\n",
       "      <th>TMIN</th>\n",
       "      <th>TMIN_ATTRIBUTES</th>\n",
       "    </tr>\n",
       "  </thead>\n",
       "  <tbody>\n",
       "    <tr>\n",
       "      <th>55133</th>\n",
       "      <td>SP000008181</td>\n",
       "      <td>BARCELONA AEROPUERTO, SP</td>\n",
       "      <td>41.2928</td>\n",
       "      <td>2.0697</td>\n",
       "      <td>4.0</td>\n",
       "      <td>1983-02-11</td>\n",
       "      <td>0.0</td>\n",
       "      <td>,,E</td>\n",
       "      <td>20.0</td>\n",
       "      <td>,,S</td>\n",
       "      <td>1.2</td>\n",
       "      <td>H,,S</td>\n",
       "      <td>7.0</td>\n",
       "      <td>,,E</td>\n",
       "      <td>-2.4</td>\n",
       "      <td>,,E</td>\n",
       "    </tr>\n",
       "    <tr>\n",
       "      <th>55375</th>\n",
       "      <td>SP000008181</td>\n",
       "      <td>BARCELONA AEROPUERTO, SP</td>\n",
       "      <td>41.2928</td>\n",
       "      <td>2.0697</td>\n",
       "      <td>4.0</td>\n",
       "      <td>1983-10-11</td>\n",
       "      <td>0.0</td>\n",
       "      <td>,,E</td>\n",
       "      <td>841.0</td>\n",
       "      <td>,,S</td>\n",
       "      <td>20.4</td>\n",
       "      <td>H,,S</td>\n",
       "      <td>24.4</td>\n",
       "      <td>,,E</td>\n",
       "      <td>17.6</td>\n",
       "      <td>,,E</td>\n",
       "    </tr>\n",
       "  </tbody>\n",
       "</table>\n",
       "</div>"
      ],
      "text/plain": [
       "           STATION                      NAME  LATITUDE  LONGITUDE  ELEVATION  \\\n",
       "55133  SP000008181  BARCELONA AEROPUERTO, SP   41.2928     2.0697        4.0   \n",
       "55375  SP000008181  BARCELONA AEROPUERTO, SP   41.2928     2.0697        4.0   \n",
       "\n",
       "            DATE  PRCP PRCP_ATTRIBUTES   SNWD SNWD_ATTRIBUTES  TAVG  \\\n",
       "55133 1983-02-11   0.0             ,,E   20.0             ,,S   1.2   \n",
       "55375 1983-10-11   0.0             ,,E  841.0             ,,S  20.4   \n",
       "\n",
       "      TAVG_ATTRIBUTES  TMAX TMAX_ATTRIBUTES  TMIN TMIN_ATTRIBUTES  \n",
       "55133            H,,S   7.0             ,,E  -2.4             ,,E  \n",
       "55375            H,,S  24.4             ,,E  17.6             ,,E  "
      ]
     },
     "execution_count": 26,
     "metadata": {},
     "output_type": "execute_result"
    }
   ],
   "source": [
    "df[df['SNWD_ATTRIBUTES'].notnull()]"
   ]
  },
  {
   "cell_type": "code",
   "execution_count": 37,
   "metadata": {},
   "outputs": [],
   "source": [
    "df_coord = df[{'LATITUDE','LONGITUDE'}]"
   ]
  },
  {
   "cell_type": "code",
   "execution_count": 58,
   "metadata": {},
   "outputs": [
    {
     "data": {
      "text/plain": [
       "<matplotlib.axes._subplots.AxesSubplot at 0x26e25873898>"
      ]
     },
     "execution_count": 58,
     "metadata": {},
     "output_type": "execute_result"
    },
    {
     "data": {
      "image/png": "[encoded data removed]",
      "text/plain": [
       "<Figure size 720x360 with 1 Axes>"
      ]
     },
     "metadata": {
      "needs_background": "light"
     },
     "output_type": "display_data"
    }
   ],
   "source": [
    "# le decimos a jupiter que integre los gráficos de la libreria matplotlib\n",
    "%matplotlib inline\n",
    "\n",
    "df.boxplot(column=('TAVG'),figsize=(10,5))"
   ]
  },
  {
   "cell_type": "code",
   "execution_count": 60,
   "metadata": {},
   "outputs": [
    {
     "data": {
      "image/png": "[encoded data removed]",
      "text/plain": [
       "<Figure size 720x360 with 1 Axes>"
      ]
     },
     "metadata": {
      "needs_background": "light"
     },
     "output_type": "display_data"
    }
   ],
   "source": [
    "#df.boxplot(column=('TMAX'),figsize=(10,5))\n",
    "bplot1 = df.boxplot(column=('TMAX'),\n",
    "                         notch=True,  \n",
    "                         vert=True,           # vertical aligmnent\n",
    "                         patch_artist=True,\n",
    "                         figsize=(10,5))"
   ]
  },
  {
   "cell_type": "code",
   "execution_count": 63,
   "metadata": {},
   "outputs": [
    {
     "data": {
      "image/png": "[encoded data removed]",
      "text/plain": [
       "<Figure size 720x360 with 1 Axes>"
      ]
     },
     "metadata": {
      "needs_background": "light"
     },
     "output_type": "display_data"
    }
   ],
   "source": [
    "#df.boxplot(column=('TMAX'),figsize=(10,5))\n",
    "bplot1 = df.boxplot(column=('TMIN'),\n",
    "                         notch=True,  \n",
    "                         vert=True,           # vertical aligmnent\n",
    "                         patch_artist=True,\n",
    "                         figsize=(10,5))"
   ]
  },
  {
   "cell_type": "code",
   "execution_count": 54,
   "metadata": {},
   "outputs": [
    {
     "data": {
      "text/plain": [
       "array([[<matplotlib.axes._subplots.AxesSubplot object at 0x0000026E2517DF28>]],\n",
       "      dtype=object)"
      ]
     },
     "execution_count": 54,
     "metadata": {},
     "output_type": "execute_result"
    },
    {
     "data": {
      "image/png": "[encoded data removed]",
      "text/plain": [
       "<Figure size 720x360 with 1 Axes>"
      ]
     },
     "metadata": {
      "needs_background": "light"
     },
     "output_type": "display_data"
    }
   ],
   "source": [
    "df.hist(column='TAVG', figsize=(10,5))"
   ]
  },
  {
   "cell_type": "code",
   "execution_count": 61,
   "metadata": {},
   "outputs": [
    {
     "data": {
      "text/plain": [
       "array([[<matplotlib.axes._subplots.AxesSubplot object at 0x0000026E2577C0B8>]],\n",
       "      dtype=object)"
      ]
     },
     "execution_count": 61,
     "metadata": {},
     "output_type": "execute_result"
    },
    {
     "data": {
      "image/png": "[encoded data removed]",
      "text/plain": [
       "<Figure size 720x360 with 1 Axes>"
      ]
     },
     "metadata": {
      "needs_background": "light"
     },
     "output_type": "display_data"
    }
   ],
   "source": [
    "df.hist(column='TMAX', figsize=(10,5))"
   ]
  },
  {
   "cell_type": "code",
   "execution_count": 62,
   "metadata": {},
   "outputs": [
    {
     "data": {
      "text/plain": [
       "array([[<matplotlib.axes._subplots.AxesSubplot object at 0x0000026E2578FE10>]],\n",
       "      dtype=object)"
      ]
     },
     "execution_count": 62,
     "metadata": {},
     "output_type": "execute_result"
    },
    {
     "data": {
      "image/png": "[encoded data removed]",
      "text/plain": [
       "<Figure size 720x360 with 1 Axes>"
      ]
     },
     "metadata": {
      "needs_background": "light"
     },
     "output_type": "display_data"
    }
   ],
   "source": [
    "df.hist(column='TMIN', figsize=(10,5))"
   ]
  },
  {
   "cell_type": "code",
   "execution_count": 64,
   "metadata": {},
   "outputs": [
    {
     "data": {
      "text/plain": [
       "Index(['STATION', 'NAME', 'LATITUDE', 'LONGITUDE', 'ELEVATION', 'DATE', 'PRCP',\n",
       "       'PRCP_ATTRIBUTES', 'SNWD', 'SNWD_ATTRIBUTES', 'TAVG', 'TAVG_ATTRIBUTES',\n",
       "       'TMAX', 'TMAX_ATTRIBUTES', 'TMIN', 'TMIN_ATTRIBUTES'],\n",
       "      dtype='object')"
      ]
     },
     "execution_count": 64,
     "metadata": {},
     "output_type": "execute_result"
    }
   ],
   "source": [
    "df.columns"
   ]
  },
  {
   "cell_type": "code",
   "execution_count": 65,
   "metadata": {},
   "outputs": [],
   "source": [
    "columnas={'NAME','DATE','PRCP', 'TMAX','TMIN'}\n",
    "df2=df[columnas]"
   ]
  },
  {
   "cell_type": "code",
   "execution_count": 66,
   "metadata": {},
   "outputs": [
    {
     "data": {
      "text/html": [
       "<div>\n",
       "<style scoped>\n",
       "    .dataframe tbody tr th:only-of-type {\n",
       "        vertical-align: middle;\n",
       "    }\n",
       "\n",
       "    .dataframe tbody tr th {\n",
       "        vertical-align: top;\n",
       "    }\n",
       "\n",
       "    .dataframe thead th {\n",
       "        text-align: right;\n",
       "    }\n",
       "</style>\n",
       "<table border=\"1\" class=\"dataframe\">\n",
       "  <thead>\n",
       "    <tr style=\"text-align: right;\">\n",
       "      <th></th>\n",
       "      <th>PRCP</th>\n",
       "      <th>TMAX</th>\n",
       "      <th>TMIN</th>\n",
       "      <th>NAME</th>\n",
       "      <th>DATE</th>\n",
       "    </tr>\n",
       "  </thead>\n",
       "  <tbody>\n",
       "    <tr>\n",
       "      <th>0</th>\n",
       "      <td>3.5</td>\n",
       "      <td>NaN</td>\n",
       "      <td>NaN</td>\n",
       "      <td>BARCELONA, SP</td>\n",
       "      <td>1920-01-01</td>\n",
       "    </tr>\n",
       "    <tr>\n",
       "      <th>1</th>\n",
       "      <td>0.0</td>\n",
       "      <td>NaN</td>\n",
       "      <td>NaN</td>\n",
       "      <td>BARCELONA, SP</td>\n",
       "      <td>1920-01-02</td>\n",
       "    </tr>\n",
       "    <tr>\n",
       "      <th>2</th>\n",
       "      <td>0.0</td>\n",
       "      <td>NaN</td>\n",
       "      <td>NaN</td>\n",
       "      <td>BARCELONA, SP</td>\n",
       "      <td>1920-01-03</td>\n",
       "    </tr>\n",
       "    <tr>\n",
       "      <th>3</th>\n",
       "      <td>16.3</td>\n",
       "      <td>NaN</td>\n",
       "      <td>NaN</td>\n",
       "      <td>BARCELONA, SP</td>\n",
       "      <td>1920-01-04</td>\n",
       "    </tr>\n",
       "    <tr>\n",
       "      <th>4</th>\n",
       "      <td>7.9</td>\n",
       "      <td>NaN</td>\n",
       "      <td>NaN</td>\n",
       "      <td>BARCELONA, SP</td>\n",
       "      <td>1920-01-05</td>\n",
       "    </tr>\n",
       "  </tbody>\n",
       "</table>\n",
       "</div>"
      ],
      "text/plain": [
       "   PRCP  TMAX  TMIN           NAME       DATE\n",
       "0   3.5   NaN   NaN  BARCELONA, SP 1920-01-01\n",
       "1   0.0   NaN   NaN  BARCELONA, SP 1920-01-02\n",
       "2   0.0   NaN   NaN  BARCELONA, SP 1920-01-03\n",
       "3  16.3   NaN   NaN  BARCELONA, SP 1920-01-04\n",
       "4   7.9   NaN   NaN  BARCELONA, SP 1920-01-05"
      ]
     },
     "execution_count": 66,
     "metadata": {},
     "output_type": "execute_result"
    }
   ],
   "source": [
    "df2.head()"
   ]
  },
  {
   "cell_type": "code",
   "execution_count": 67,
   "metadata": {},
   "outputs": [
    {
     "data": {
      "text/html": [
       "<div>\n",
       "<style scoped>\n",
       "    .dataframe tbody tr th:only-of-type {\n",
       "        vertical-align: middle;\n",
       "    }\n",
       "\n",
       "    .dataframe tbody tr th {\n",
       "        vertical-align: top;\n",
       "    }\n",
       "\n",
       "    .dataframe thead th {\n",
       "        text-align: right;\n",
       "    }\n",
       "</style>\n",
       "<table border=\"1\" class=\"dataframe\">\n",
       "  <thead>\n",
       "    <tr style=\"text-align: right;\">\n",
       "      <th></th>\n",
       "      <th>PRCP</th>\n",
       "      <th>TMAX</th>\n",
       "      <th>TMIN</th>\n",
       "      <th>NAME</th>\n",
       "      <th>DATE</th>\n",
       "    </tr>\n",
       "  </thead>\n",
       "  <tbody>\n",
       "    <tr>\n",
       "      <th>67804</th>\n",
       "      <td>1.5</td>\n",
       "      <td>NaN</td>\n",
       "      <td>15.0</td>\n",
       "      <td>BARCELONA AEROPUERTO, SP</td>\n",
       "      <td>2017-10-21</td>\n",
       "    </tr>\n",
       "    <tr>\n",
       "      <th>67805</th>\n",
       "      <td>0.0</td>\n",
       "      <td>NaN</td>\n",
       "      <td>NaN</td>\n",
       "      <td>BARCELONA AEROPUERTO, SP</td>\n",
       "      <td>2017-10-22</td>\n",
       "    </tr>\n",
       "    <tr>\n",
       "      <th>67806</th>\n",
       "      <td>NaN</td>\n",
       "      <td>NaN</td>\n",
       "      <td>NaN</td>\n",
       "      <td>BARCELONA AEROPUERTO, SP</td>\n",
       "      <td>2017-10-23</td>\n",
       "    </tr>\n",
       "    <tr>\n",
       "      <th>67807</th>\n",
       "      <td>NaN</td>\n",
       "      <td>NaN</td>\n",
       "      <td>12.7</td>\n",
       "      <td>BARCELONA AEROPUERTO, SP</td>\n",
       "      <td>2017-10-24</td>\n",
       "    </tr>\n",
       "    <tr>\n",
       "      <th>67808</th>\n",
       "      <td>NaN</td>\n",
       "      <td>NaN</td>\n",
       "      <td>NaN</td>\n",
       "      <td>BARCELONA AEROPUERTO, SP</td>\n",
       "      <td>2017-10-25</td>\n",
       "    </tr>\n",
       "  </tbody>\n",
       "</table>\n",
       "</div>"
      ],
      "text/plain": [
       "       PRCP  TMAX  TMIN                      NAME       DATE\n",
       "67804   1.5   NaN  15.0  BARCELONA AEROPUERTO, SP 2017-10-21\n",
       "67805   0.0   NaN   NaN  BARCELONA AEROPUERTO, SP 2017-10-22\n",
       "67806   NaN   NaN   NaN  BARCELONA AEROPUERTO, SP 2017-10-23\n",
       "67807   NaN   NaN  12.7  BARCELONA AEROPUERTO, SP 2017-10-24\n",
       "67808   NaN   NaN   NaN  BARCELONA AEROPUERTO, SP 2017-10-25"
      ]
     },
     "execution_count": 67,
     "metadata": {},
     "output_type": "execute_result"
    }
   ],
   "source": [
    "df2.tail()"
   ]
  },
  {
   "cell_type": "code",
   "execution_count": 71,
   "metadata": {},
   "outputs": [],
   "source": [
    "filtro = df2['NAME']=='BARCELONA, SP'\n",
    "df2 = df2[filtro]"
   ]
  },
  {
   "cell_type": "code",
   "execution_count": 74,
   "metadata": {},
   "outputs": [
    {
     "data": {
      "text/plain": [
       "(35580, 5)"
      ]
     },
     "execution_count": 74,
     "metadata": {},
     "output_type": "execute_result"
    }
   ],
   "source": [
    "df2.shape"
   ]
  },
  {
   "cell_type": "code",
   "execution_count": 75,
   "metadata": {},
   "outputs": [],
   "source": [
    "df2.dropna(inplace=True)"
   ]
  },
  {
   "cell_type": "code",
   "execution_count": 77,
   "metadata": {},
   "outputs": [],
   "source": [
    "df2['YEAR']= df2['DATE'].dt.year"
   ]
  },
  {
   "cell_type": "code",
   "execution_count": 78,
   "metadata": {},
   "outputs": [
    {
     "data": {
      "text/plain": [
       "Index(['PRCP', 'TMAX', 'TMIN', 'NAME', 'DATE', 'YEAR'], dtype='object')"
      ]
     },
     "execution_count": 78,
     "metadata": {},
     "output_type": "execute_result"
    }
   ],
   "source": [
    "df2.columns"
   ]
  },
  {
   "cell_type": "code",
   "execution_count": 81,
   "metadata": {},
   "outputs": [],
   "source": [
    "df_agrupado = df2.groupby(by=['NAME','YEAR'], as_index=False).mean()"
   ]
  },
  {
   "cell_type": "code",
   "execution_count": 82,
   "metadata": {},
   "outputs": [
    {
     "data": {
      "text/html": [
       "<div>\n",
       "<style scoped>\n",
       "    .dataframe tbody tr th:only-of-type {\n",
       "        vertical-align: middle;\n",
       "    }\n",
       "\n",
       "    .dataframe tbody tr th {\n",
       "        vertical-align: top;\n",
       "    }\n",
       "\n",
       "    .dataframe thead th {\n",
       "        text-align: right;\n",
       "    }\n",
       "</style>\n",
       "<table border=\"1\" class=\"dataframe\">\n",
       "  <thead>\n",
       "    <tr style=\"text-align: right;\">\n",
       "      <th></th>\n",
       "      <th>NAME</th>\n",
       "      <th>YEAR</th>\n",
       "      <th>PRCP</th>\n",
       "      <th>TMAX</th>\n",
       "      <th>TMIN</th>\n",
       "    </tr>\n",
       "  </thead>\n",
       "  <tbody>\n",
       "    <tr>\n",
       "      <th>0</th>\n",
       "      <td>BARCELONA, SP</td>\n",
       "      <td>1926</td>\n",
       "      <td>1.816164</td>\n",
       "      <td>18.131781</td>\n",
       "      <td>11.253151</td>\n",
       "    </tr>\n",
       "    <tr>\n",
       "      <th>1</th>\n",
       "      <td>BARCELONA, SP</td>\n",
       "      <td>1927</td>\n",
       "      <td>1.522466</td>\n",
       "      <td>18.326301</td>\n",
       "      <td>11.254521</td>\n",
       "    </tr>\n",
       "    <tr>\n",
       "      <th>2</th>\n",
       "      <td>BARCELONA, SP</td>\n",
       "      <td>1928</td>\n",
       "      <td>2.045628</td>\n",
       "      <td>18.501639</td>\n",
       "      <td>11.526776</td>\n",
       "    </tr>\n",
       "    <tr>\n",
       "      <th>3</th>\n",
       "      <td>BARCELONA, SP</td>\n",
       "      <td>1929</td>\n",
       "      <td>1.206027</td>\n",
       "      <td>17.984658</td>\n",
       "      <td>11.055342</td>\n",
       "    </tr>\n",
       "    <tr>\n",
       "      <th>4</th>\n",
       "      <td>BARCELONA, SP</td>\n",
       "      <td>1930</td>\n",
       "      <td>1.483288</td>\n",
       "      <td>18.217260</td>\n",
       "      <td>11.317260</td>\n",
       "    </tr>\n",
       "  </tbody>\n",
       "</table>\n",
       "</div>"
      ],
      "text/plain": [
       "            NAME  YEAR      PRCP       TMAX       TMIN\n",
       "0  BARCELONA, SP  1926  1.816164  18.131781  11.253151\n",
       "1  BARCELONA, SP  1927  1.522466  18.326301  11.254521\n",
       "2  BARCELONA, SP  1928  2.045628  18.501639  11.526776\n",
       "3  BARCELONA, SP  1929  1.206027  17.984658  11.055342\n",
       "4  BARCELONA, SP  1930  1.483288  18.217260  11.317260"
      ]
     },
     "execution_count": 82,
     "metadata": {},
     "output_type": "execute_result"
    }
   ],
   "source": [
    "df_agrupado.head()"
   ]
  },
  {
   "cell_type": "code",
   "execution_count": 92,
   "metadata": {},
   "outputs": [
    {
     "data": {
      "text/plain": [
       "(1921.45, 2021.55)"
      ]
     },
     "execution_count": 92,
     "metadata": {},
     "output_type": "execute_result"
    },
    {
     "data": {
      "image/png": "[encoded data removed]",
      "text/plain": [
       "<Figure size 432x288 with 1 Axes>"
      ]
     },
     "metadata": {
      "needs_background": "light"
     },
     "output_type": "display_data"
    }
   ],
   "source": [
    "x=df_agrupado['YEAR']\n",
    "y= df_agrupado['TMAX']\n",
    "\n",
    "plt.plot(x,y)"
   ]
  },
  {
   "cell_type": "code",
   "execution_count": 94,
   "metadata": {},
   "outputs": [],
   "source": [
    "plt.xscale?"
   ]
  },
  {
   "cell_type": "code",
   "execution_count": null,
   "metadata": {},
   "outputs": [],
   "source": []
  }
 ],
 "metadata": {
  "kernelspec": {
   "display_name": "Python 3",
   "language": "python",
   "name": "python3"
  },
  "language_info": {
   "codemirror_mode": {
    "name": "ipython",
    "version": 3
   },
   "file_extension": ".py",
   "mimetype": "text/x-python",
   "name": "python",
   "nbconvert_exporter": "python",
   "pygments_lexer": "ipython3",
   "version": "3.7.3"
  }
 },
 "nbformat": 4,
 "nbformat_minor": 2
}
