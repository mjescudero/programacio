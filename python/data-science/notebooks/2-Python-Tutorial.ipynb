{
 "cells": [
  {
   "cell_type": "markdown",
   "metadata": {},
   "source": [
    "# El aprendiz de Python"
   ]
  },
  {
   "cell_type": "markdown",
   "metadata": {},
   "source": [
    "# Mi primer programa en Python"
   ]
  },
  {
   "cell_type": "code",
   "execution_count": null,
   "metadata": {},
   "outputs": [],
   "source": [
    "# El primer programa en Python\n",
    "print(\"Hola Mundo!\")"
   ]
  },
  {
   "cell_type": "markdown",
   "metadata": {},
   "source": [
    "# Una simple calculadora (+, -, *, /)"
   ]
  },
  {
   "cell_type": "code",
   "execution_count": null,
   "metadata": {},
   "outputs": [],
   "source": [
    "# Sumas y Restas (+, -)\n",
    "print(\"5 + 2 =\", 5 + 2)\n",
    "print(\"5 - 2 =\", 5 - 2)"
   ]
  },
  {
   "cell_type": "code",
   "execution_count": 1,
   "metadata": {},
   "outputs": [
    {
     "name": "stdout",
     "output_type": "stream",
     "text": [
      "5 * 2 = 10\n",
      "5 / 2 = 2.5\n",
      "5 // 2 = 2\n"
     ]
    }
   ],
   "source": [
    "# Multiplicación y División (decimal y entera)(*, /, //)\n",
    "print(\"5 * 2 =\", 5 * 2)\n",
    "print(\"5 / 2 =\", 5 / 2)\n",
    "print(\"5 // 2 =\", 5 // 2)"
   ]
  },
  {
   "cell_type": "code",
   "execution_count": 2,
   "metadata": {},
   "outputs": [
    {
     "name": "stdout",
     "output_type": "stream",
     "text": [
      "5 elevado a 2 = 25\n"
     ]
    }
   ],
   "source": [
    "# Potenciación (**)\n",
    "print (\"5 elevado a 2 =\", 5 ** 2)"
   ]
  },
  {
   "cell_type": "code",
   "execution_count": 7,
   "metadata": {},
   "outputs": [
    {
     "data": {
      "text/plain": [
       "1"
      ]
     },
     "execution_count": 7,
     "metadata": {},
     "output_type": "execute_result"
    }
   ],
   "source": []
  },
  {
   "cell_type": "code",
   "execution_count": 3,
   "metadata": {},
   "outputs": [
    {
     "name": "stdout",
     "output_type": "stream",
     "text": [
      "5 mod 2 = 1\n",
      "5 div 2 = 2\n",
      "3 mod 2 = 1\n",
      "3 div 2 = 1\n"
     ]
    }
   ],
   "source": [
    "# Modulo y Divisor\n",
    "print(\"5 mod 2 =\", 5 % 2)\n",
    "print(\"5 div 2 =\", 5 // 2)\n",
    "\n",
    "print(\"3 mod 2 =\", 3 % 2)\n",
    "print(\"3 div 2 =\", 3 // 2)"
   ]
  },
  {
   "cell_type": "markdown",
   "metadata": {},
   "source": [
    "# Una calculadora con variables numéricas (enteros, reales, complejos)"
   ]
  },
  {
   "cell_type": "markdown",
   "metadata": {},
   "source": [
    "## Variables\n",
    "\n",
    "El operador para asignar valores en Python es el signo igual (=).\n",
    "\n",
    "Al asignar un valor a una variable nueva se crea esa variable.\n",
    "\n",
    "La variable se crea con el tipo adecuado al valor que se le asigne.\n",
    "\n",
    "\n",
    "\n"
   ]
  },
  {
   "cell_type": "markdown",
   "metadata": {},
   "source": [
    "## Nombres de variables\n",
    "\n",
    "Los nombres de las variables en Python pueden contener los caracteres `a-z`, `A-Z`, `0-9` y algunos caracteres especiales como `_`. Los nombres de variables normales deben comenzar con una letra. \n",
    "\n",
    "Por convención, los nombres de las variables comienzan con letra minúscula, mientras que los nombres de las clases comienzan con una letra mayúscula. \n",
    "\n",
    "Además, existen algunos palabras claves Python que no pueden ser usados como nombres de variables. Éstas son:\n",
    "\n",
    "    and, as, assert, break, class, continue, def, del, elif, else, except, \n",
    "    exec, finally, for, from, global, if, import, in, is, lambda, not, or,\n",
    "    pass, print, raise, return, try, while, with, yield"
   ]
  },
  {
   "cell_type": "code",
   "execution_count": null,
   "metadata": {},
   "outputs": [],
   "source": [
    "a = 3\n",
    "print(a)"
   ]
  },
  {
   "cell_type": "code",
   "execution_count": null,
   "metadata": {},
   "outputs": [],
   "source": [
    "# El nombre de variable 'and' es incorrecto\n",
    "#and = 3\n",
    "#print(a)"
   ]
  },
  {
   "cell_type": "markdown",
   "metadata": {},
   "source": [
    "## Tipos simples de variables: \n",
    "* Enteros (int): $\\mathbb{Z} = $ {$ ..., -3, -2, -1, 0, +1, +2, +3, ... $}\n",
    "* Reales (float): $\\mathbb{R}$ por ej. $3.14$\n",
    "* Complejos (complex): $z = a + bi$\n",
    "* Lógicos (boolean): $True$, $False$"
   ]
  },
  {
   "cell_type": "code",
   "execution_count": 4,
   "metadata": {},
   "outputs": [
    {
     "data": {
      "text/plain": [
       "int"
      ]
     },
     "execution_count": 4,
     "metadata": {},
     "output_type": "execute_result"
    }
   ],
   "source": [
    "# Enteros (int)\n",
    "n = 5\n",
    "type(n)"
   ]
  },
  {
   "cell_type": "code",
   "execution_count": 5,
   "metadata": {},
   "outputs": [
    {
     "data": {
      "text/plain": [
       "float"
      ]
     },
     "execution_count": 5,
     "metadata": {},
     "output_type": "execute_result"
    }
   ],
   "source": [
    "# Reales (float)\n",
    "x = 3.14\n",
    "type(x)"
   ]
  },
  {
   "cell_type": "code",
   "execution_count": 6,
   "metadata": {},
   "outputs": [
    {
     "name": "stdout",
     "output_type": "stream",
     "text": [
      "(1+1j) Parte Real: 1.0 Parte Imaginaria: 1.0\n"
     ]
    },
    {
     "data": {
      "text/plain": [
       "complex"
      ]
     },
     "execution_count": 6,
     "metadata": {},
     "output_type": "execute_result"
    }
   ],
   "source": [
    "# Complejos (complex)\n",
    "z = 1.0 + 1.0j\n",
    "a = z.real\n",
    "b = z.imag\n",
    "print(z, \"Parte Real:\", a, \"Parte Imaginaria:\", b)\n",
    "type(z)"
   ]
  },
  {
   "cell_type": "code",
   "execution_count": 7,
   "metadata": {},
   "outputs": [
    {
     "name": "stdout",
     "output_type": "stream",
     "text": [
      "Inicio\n",
      "Verdadero: True Falso: False\n"
     ]
    },
    {
     "data": {
      "text/plain": [
       "bool"
      ]
     },
     "execution_count": 7,
     "metadata": {},
     "output_type": "execute_result"
    }
   ],
   "source": [
    "# Lógicas (boolean)\n",
    "a = True\n",
    "print(\"Inicio\")\n",
    "b = False\n",
    "type(b)\n",
    "print(\"Verdadero:\", a, \"Falso:\", b)\n",
    "type(a)"
   ]
  },
  {
   "cell_type": "markdown",
   "metadata": {},
   "source": [
    "## Operadores aritméticos\n",
    "\n",
    "* Suma: '***+***'\n",
    "* Resta: '***-***'\n",
    "* Multiplicación: '*******'\n",
    "* División: '***/***'\n",
    "* Módulo (mod): '***%***'\n",
    "* División Entera (div): '***//***'\n",
    "* Potenciación: '********'\n"
   ]
  },
  {
   "cell_type": "code",
   "execution_count": 25,
   "metadata": {},
   "outputs": [
    {
     "name": "stdout",
     "output_type": "stream",
     "text": [
      "La variable a es de tipo:  <class 'int'>\n"
     ]
    }
   ],
   "source": [
    "# Números Enteros (int)\n",
    "a = 5 # Asignar valor 5 a variable a\n",
    "b = 2\n",
    "c = 3\n",
    "print(\"La variable a es de tipo: \", type(a))\n",
    "assert type(a) is int, \"ERROR: la variable 'a' no es un número entero\""
   ]
  },
  {
   "cell_type": "code",
   "execution_count": null,
   "metadata": {},
   "outputs": [],
   "source": [
    "\n",
    "# Números Reales (float)\n",
    "a = 5.1\n",
    "b = 2.1\n",
    "c = 3.1\n",
    "print(\"Variable a is of type: \", type(a))\n",
    "assert type(a) is float, \"ERROR: la variable 'a' no es un número real\""
   ]
  },
  {
   "cell_type": "code",
   "execution_count": null,
   "metadata": {},
   "outputs": [],
   "source": [
    "\"\"\" parrafo comentado\n",
    "# Números Complejos (complex)\n",
    "a = 5 + 1j\n",
    "b = 2 + 1j\n",
    "c = 3 + 1j\n",
    "print(\"Variable a is of type: \", type(a))\n",
    "print(a, \"Parte Real:\", a.real, \"Parte Imaginaria:\", b.imag)\n",
    "assert type(a) is complex, \"ERROR: la variable 'a' no es un número complejo\"\n",
    "\"\"\""
   ]
  },
  {
   "cell_type": "code",
   "execution_count": null,
   "metadata": {},
   "outputs": [],
   "source": [
    "# Suma y Resta (+, -)\n",
    "print(\"a + b =\", a + b)\n",
    "print(\"a - b =\", a - b)"
   ]
  },
  {
   "cell_type": "code",
   "execution_count": null,
   "metadata": {},
   "outputs": [],
   "source": [
    "# Multiplicación y División (*, /)\n",
    "print(\"a * b =\", a * b)\n",
    "print(\"a / b =\", a / b)"
   ]
  },
  {
   "cell_type": "code",
   "execution_count": 30,
   "metadata": {},
   "outputs": [
    {
     "name": "stdout",
     "output_type": "stream",
     "text": [
      "2 elavado a 5 =  32\n"
     ]
    },
    {
     "data": {
      "text/plain": [
       "32"
      ]
     },
     "execution_count": 30,
     "metadata": {},
     "output_type": "execute_result"
    }
   ],
   "source": [
    "#potencia\n",
    "print(\"2 elavado a 5 = \", 2**5)\n",
    "\n",
    "pow(2,5)"
   ]
  },
  {
   "cell_type": "code",
   "execution_count": null,
   "metadata": {},
   "outputs": [],
   "source": [
    "# Módulo y División Entera (%, //)\n",
    "if (type(a) is not complex):\n",
    "    print(\"a mod b =\", a % b)\n",
    "    print(\"a div b =\", a // b)"
   ]
  },
  {
   "cell_type": "code",
   "execution_count": 26,
   "metadata": {},
   "outputs": [],
   "source": [
    "# Propiedades de la Suma\n",
    "# Conmutativa\n",
    "assert a+b == b+a, \"ERROR: no se cumple la propiedad conmutativa de la suma\"\n",
    "\n",
    "# Asociativa\n",
    "assert ((a + b) + c == a + (b + c)), \"ERROR: no es cumple la propiedad asociativa de la suma\"\n",
    "\n",
    "# Elemento Neutro\n",
    "assert (a + 0 == a), \"ERROR: no se cumple la propiedad del elemento neutro de la suma\""
   ]
  },
  {
   "cell_type": "code",
   "execution_count": 17,
   "metadata": {},
   "outputs": [
    {
     "data": {
      "text/plain": [
       "True"
      ]
     },
     "execution_count": 17,
     "metadata": {},
     "output_type": "execute_result"
    }
   ],
   "source": [
    "a+b==b+a+0"
   ]
  },
  {
   "cell_type": "markdown",
   "metadata": {},
   "source": [
    "## Operadores de Comparación\n",
    "* Operadores de comparación `>`, `<`, `>=` (mayor o igual), `<=` (menor o igual), `==` igualdad, `es` identico."
   ]
  },
  {
   "cell_type": "code",
   "execution_count": null,
   "metadata": {},
   "outputs": [],
   "source": [
    "2 > 1, 2 < 1"
   ]
  },
  {
   "cell_type": "code",
   "execution_count": null,
   "metadata": {
    "scrolled": true
   },
   "outputs": [],
   "source": [
    "#dos inrtucciones en una misma linea separadas por comas\n",
    "2 > 2, 2 < 2"
   ]
  },
  {
   "cell_type": "code",
   "execution_count": null,
   "metadata": {
    "scrolled": true
   },
   "outputs": [],
   "source": [
    "2 >= 2, 2 <= 2"
   ]
  },
  {
   "cell_type": "code",
   "execution_count": 34,
   "metadata": {},
   "outputs": [
    {
     "data": {
      "text/plain": [
       "True"
      ]
     },
     "execution_count": 34,
     "metadata": {},
     "output_type": "execute_result"
    }
   ],
   "source": [
    "# igualdad\n",
    "[1,2] == [1,2]"
   ]
  },
  {
   "cell_type": "code",
   "execution_count": 27,
   "metadata": {},
   "outputs": [
    {
     "data": {
      "text/plain": [
       "True"
      ]
     },
     "execution_count": 27,
     "metadata": {},
     "output_type": "execute_result"
    }
   ],
   "source": [
    "# ¿objetos identicos? las dos variables apuntan al mismo dato, no duplica!!!\n",
    "l1 = l2 = [1,2]\n",
    "\n",
    "l1 is l2"
   ]
  },
  {
   "cell_type": "code",
   "execution_count": 28,
   "metadata": {},
   "outputs": [
    {
     "data": {
      "text/plain": [
       "[1, 2]"
      ]
     },
     "execution_count": 28,
     "metadata": {},
     "output_type": "execute_result"
    }
   ],
   "source": [
    "l1=l1*3\n",
    "l2"
   ]
  },
  {
   "cell_type": "code",
   "execution_count": 68,
   "metadata": {},
   "outputs": [
    {
     "name": "stdout",
     "output_type": "stream",
     "text": [
      "[1, 2, 1, 2, 1, 2]\n",
      "[1, 2]\n"
     ]
    },
    {
     "data": {
      "text/plain": [
       "False"
      ]
     },
     "execution_count": 68,
     "metadata": {},
     "output_type": "execute_result"
    }
   ],
   "source": [
    "\n",
    "print (l1)\n",
    "print (l2)\n",
    "l2 is l1"
   ]
  },
  {
   "cell_type": "markdown",
   "metadata": {},
   "source": [
    "## Operadores lógicos o booleanos\n",
    "* Conjunción: a ***and*** b $(a \\wedge b)$\n",
    "* Disyunción: a ***or*** b $(a\\vee b)$\n",
    "* Negación: ***not*** b $(\\neg b)$"
   ]
  },
  {
   "cell_type": "code",
   "execution_count": 71,
   "metadata": {},
   "outputs": [
    {
     "data": {
      "text/plain": [
       "False"
      ]
     },
     "execution_count": 71,
     "metadata": {},
     "output_type": "execute_result"
    }
   ],
   "source": [
    "True and False"
   ]
  },
  {
   "cell_type": "code",
   "execution_count": 70,
   "metadata": {},
   "outputs": [
    {
     "data": {
      "text/plain": [
       "True"
      ]
     },
     "execution_count": 70,
     "metadata": {},
     "output_type": "execute_result"
    }
   ],
   "source": [
    "True or False"
   ]
  },
  {
   "cell_type": "code",
   "execution_count": 69,
   "metadata": {},
   "outputs": [
    {
     "data": {
      "text/plain": [
       "False"
      ]
     },
     "execution_count": 69,
     "metadata": {},
     "output_type": "execute_result"
    }
   ],
   "source": [
    "not True"
   ]
  },
  {
   "cell_type": "markdown",
   "metadata": {},
   "source": [
    "## Control de flujo"
   ]
  },
  {
   "cell_type": "markdown",
   "metadata": {},
   "source": [
    "### Sentencias condicionales: if, elif, else\n",
    "\n",
    "La sintaxis Python para la ejecución condicional de código usa las palabras clave `if`, `elif` (else if), `else`.\n",
    "\n",
    "Los bloques del programa son definidos por su nivel de indentación, por lo que tenemos que ser muy cuidadosos con la indentación"
   ]
  },
  {
   "cell_type": "code",
   "execution_count": 32,
   "metadata": {},
   "outputs": [
    {
     "name": "stdout",
     "output_type": "stream",
     "text": [
      "afirmacion1 es verdadera\n",
      "Hola\n",
      "Juan\n",
      "Pablo\n",
      "Siempre\n"
     ]
    }
   ],
   "source": [
    "afirmacion1 = True\n",
    "afirmacion2 = False\n",
    "\n",
    "if afirmacion1:\n",
    "    print(\"afirmacion1 es verdadera\")\n",
    "    print(\"Hola\")\n",
    "    print(\"Juan\")\n",
    "    print(\"Pablo\")\n",
    "    \n",
    "elif afirmacion2:\n",
    "    print(\"afirmacion2 es verdadera\")\n",
    "    \n",
    "else:\n",
    "    print(\"afirmacion1 y afirmacion2 son falsas\")\n",
    "    \n",
    "print(\"Siempre\")"
   ]
  },
  {
   "cell_type": "code",
   "execution_count": 33,
   "metadata": {},
   "outputs": [
    {
     "name": "stdout",
     "output_type": "stream",
     "text": [
      "True\n",
      "Verdadero\n"
     ]
    }
   ],
   "source": [
    "cond = 5 > 3\n",
    "print (cond)\n",
    "if 7 > 3:\n",
    "    print(\"Verdadero\")"
   ]
  },
  {
   "cell_type": "code",
   "execution_count": 74,
   "metadata": {},
   "outputs": [
    {
     "name": "stdout",
     "output_type": "stream",
     "text": [
      "tanto afirmacion1 como afirmacion2 son verdaderas\n"
     ]
    }
   ],
   "source": [
    "afirmacion1 = afirmacion2 = True\n",
    "\n",
    "if afirmacion1:\n",
    "    if afirmacion2:\n",
    "        print(\"tanto afirmacion1 como afirmacion2 son verdaderas\")"
   ]
  },
  {
   "cell_type": "code",
   "execution_count": 34,
   "metadata": {},
   "outputs": [
    {
     "name": "stdout",
     "output_type": "stream",
     "text": [
      "afirmacion1 es verdadera\n",
      "aun estamos dentro del bloque if\n"
     ]
    }
   ],
   "source": [
    "afirmacion1 = True\n",
    "\n",
    "if afirmacion1:\n",
    "    print(\"afirmacion1 es verdadera\")\n",
    "    \n",
    "    print(\"aun estamos dentro del bloque if\")"
   ]
  },
  {
   "cell_type": "code",
   "execution_count": 35,
   "metadata": {},
   "outputs": [
    {
     "name": "stdout",
     "output_type": "stream",
     "text": [
      "afirmacion1 es verdadera\n",
      "ahora estamos fuera del bloque\n"
     ]
    }
   ],
   "source": [
    "if afirmacion1:\n",
    "    print(\"afirmacion1 es verdadera\")\n",
    "    \n",
    "print(\"ahora estamos fuera del bloque\")"
   ]
  },
  {
   "cell_type": "markdown",
   "metadata": {},
   "source": [
    "## Strings\n",
    "Los strings son cadenas de texto indexadas comenzando en ***0***\n",
    "\n",
    "Podemos extraer una parte de una cadena usando la sintaxis ***[desde:hasta]***\n",
    "\n",
    "Podemos añadir el parámetro paso a la extracción ***[desde:hasta:paso]***\n",
    "\n",
    "Podemos concatenar strings utilizando el operador de suma: ***+***"
   ]
  },
  {
   "cell_type": "code",
   "execution_count": null,
   "metadata": {},
   "outputs": [],
   "source": [
    "a = \"pera\""
   ]
  },
  {
   "cell_type": "code",
   "execution_count": null,
   "metadata": {
    "scrolled": true
   },
   "outputs": [],
   "source": [
    "a[0:2]"
   ]
  },
  {
   "cell_type": "code",
   "execution_count": null,
   "metadata": {
    "scrolled": true
   },
   "outputs": [],
   "source": [
    "a[1:2]"
   ]
  },
  {
   "cell_type": "code",
   "execution_count": null,
   "metadata": {
    "scrolled": true
   },
   "outputs": [],
   "source": [
    "a[:3]"
   ]
  },
  {
   "cell_type": "code",
   "execution_count": null,
   "metadata": {},
   "outputs": [],
   "source": [
    "a[::-1]"
   ]
  },
  {
   "cell_type": "code",
   "execution_count": null,
   "metadata": {},
   "outputs": [],
   "source": [
    "a[-2:]"
   ]
  },
  {
   "cell_type": "code",
   "execution_count": null,
   "metadata": {
    "scrolled": true
   },
   "outputs": [],
   "source": [
    "# el segundo paramentro es el incremento en este caso 2\n",
    "a[:4:2]"
   ]
  },
  {
   "cell_type": "markdown",
   "metadata": {},
   "source": [
    "# Sopa de letras de frutas (Ejercicio)"
   ]
  },
  {
   "cell_type": "markdown",
   "metadata": {},
   "source": [
    "<center>\n",
    "<img src=\"../images/SopaDeLetras-Frutas.gif\" width=\"300\">\n",
    "</center>"
   ]
  },
  {
   "cell_type": "code",
   "execution_count": 36,
   "metadata": {},
   "outputs": [],
   "source": [
    "A = \"pfneukñaqs\"\n",
    "B = \"readqviñmy\"\n",
    "C = \"kortjgaiei\"\n",
    "D = \"oraapjlslp\"\n",
    "E = \"pmniurimóa\"\n",
    "F = \"oajmanzana\"\n",
    "H = \"nenonatalp\"\n"
   ]
  },
  {
   "cell_type": "code",
   "execution_count": 37,
   "metadata": {},
   "outputs": [
    {
     "name": "stdout",
     "output_type": "stream",
     "text": [
      "pera\n"
     ]
    }
   ],
   "source": [
    "pera = A[0] + B[1] + C[2] + D[3]\n",
    "print(pera)"
   ]
  },
  {
   "cell_type": "code",
   "execution_count": 39,
   "metadata": {},
   "outputs": [
    {
     "name": "stdout",
     "output_type": "stream",
     "text": [
      "onatalp\n",
      "platano\n"
     ]
    }
   ],
   "source": [
    "platano= H[3:]\n",
    "print(platano)\n",
    "\n",
    "platano=platano[::-1]\n",
    "print(platano)"
   ]
  },
  {
   "cell_type": "code",
   "execution_count": 67,
   "metadata": {},
   "outputs": [
    {
     "name": "stdout",
     "output_type": "stream",
     "text": [
      "platano\n",
      "no\n"
     ]
    }
   ],
   "source": [
    "# extraure pel final\n",
    "platano1=H[:-8:-1]\n",
    "print(platano1)\n",
    "print(H[-6:-8:-1])"
   ]
  },
  {
   "cell_type": "code",
   "execution_count": null,
   "metadata": {},
   "outputs": [],
   "source": [
    "melon= B[-2] + C[-2] + D[-2] + E[-2] + F[-2]\n",
    "print(melon)"
   ]
  },
  {
   "cell_type": "markdown",
   "metadata": {},
   "source": [
    "### Formateando cadenas de caracteres"
   ]
  },
  {
   "cell_type": "code",
   "execution_count": 54,
   "metadata": {},
   "outputs": [
    {
     "name": "stdout",
     "output_type": "stream",
     "text": [
      "Tu nombre es: Juan\n"
     ]
    }
   ],
   "source": [
    "nombre = \"Juan\"\n",
    "print(\"Tu nombre es: \" + nombre)"
   ]
  },
  {
   "cell_type": "code",
   "execution_count": 56,
   "metadata": {},
   "outputs": [
    {
     "name": "stdout",
     "output_type": "stream",
     "text": [
      "Tu primer apellido es: García\n"
     ]
    }
   ],
   "source": [
    "primer_apellido = \"García\"\n",
    "print(\"Tu primer apellido es: \" + primer_apellido)"
   ]
  },
  {
   "cell_type": "code",
   "execution_count": 57,
   "metadata": {},
   "outputs": [
    {
     "name": "stdout",
     "output_type": "stream",
     "text": [
      "Tu segundo apellido es: Fernández\n"
     ]
    }
   ],
   "source": [
    "segundo_apellido = \"Fernández\"\n",
    "print(\"Tu segundo apellido es: \" + segundo_apellido)"
   ]
  },
  {
   "cell_type": "code",
   "execution_count": 58,
   "metadata": {},
   "outputs": [
    {
     "name": "stdout",
     "output_type": "stream",
     "text": [
      "Tu edad es:  20\n"
     ]
    }
   ],
   "source": [
    "edad = 20\n",
    "print(\"Tu edad es: \", edad)"
   ]
  },
  {
   "cell_type": "code",
   "execution_count": 59,
   "metadata": {},
   "outputs": [
    {
     "name": "stdout",
     "output_type": "stream",
     "text": [
      "Tu altura es:  1.75\n"
     ]
    }
   ],
   "source": [
    "altura = 1.75\n",
    "print(\"Tu altura es: \", altura)"
   ]
  },
  {
   "cell_type": "code",
   "execution_count": 60,
   "metadata": {
    "scrolled": true
   },
   "outputs": [
    {
     "name": "stdout",
     "output_type": "stream",
     "text": [
      "Tu nombre completo es:  Juan García Fernández\n"
     ]
    }
   ],
   "source": [
    "print(\"Tu nombre completo es: \", nombre, primer_apellido, segundo_apellido)"
   ]
  },
  {
   "cell_type": "code",
   "execution_count": null,
   "metadata": {},
   "outputs": [],
   "source": [
    "print(\"uno\", 1.0, False, -1j)  # El comendo print convierte todos los argumentos a cadenas"
   ]
  },
  {
   "cell_type": "code",
   "execution_count": 61,
   "metadata": {},
   "outputs": [
    {
     "name": "stdout",
     "output_type": "stream",
     "text": [
      "Tu nombre es: Juan. Tienes 20 años. Mides 1.75 metros.\n"
     ]
    }
   ],
   "source": [
    "# Formateo de cadenas original, tipo lenguaje C\n",
    "print(\"Tu nombre es: %s. Tienes %d años. Mides %.2f metros.\" % (nombre, edad, altura))"
   ]
  },
  {
   "cell_type": "code",
   "execution_count": null,
   "metadata": {},
   "outputs": [],
   "source": [
    "# Formateo de cadenas nuevo, a partir de Python 2.6 (str.format)\n",
    "s1 = \"Tu nombre es: {0}. Tienes {1} años. Mides {2} metros\".format(nombre, edad, altura)\n",
    "print(s1)"
   ]
  },
  {
   "cell_type": "markdown",
   "metadata": {},
   "source": [
    "## Listas\n",
    "\n",
    "Listas son muy similares a los Strings, excepto que:\n",
    "* Cada elemento puede ser de un tipo diferente\n",
    "* Las listas son mutables, es decir, se puede cambiar su contenido\n",
    "\n",
    "La sintaxis para crear listas en Python es '[..., ..., ...]'"
   ]
  },
  {
   "cell_type": "code",
   "execution_count": 63,
   "metadata": {},
   "outputs": [],
   "source": [
    "manzana = \"manzana\"\n",
    "pera = \"pera\"\n",
    "naranja = \"naranja\"\n",
    "uvas = \"uvas\"\n",
    "melon = \"melon\"\n",
    "mango = \"mango\"\n",
    "fresa = \"fresa\"\n",
    "platano = \"platano\""
   ]
  },
  {
   "cell_type": "code",
   "execution_count": 64,
   "metadata": {},
   "outputs": [
    {
     "name": "stdout",
     "output_type": "stream",
     "text": [
      "['manzana', 'pera', 'naranja', 'uvas', 'melon', 'mango', 'fresa', 'platano']\n",
      "manzana\n",
      "['mango', 'melon', 'uvas', 'naranja', 'pera', 'manzana']\n",
      "['pera', 'naranja', 'uvas']\n"
     ]
    }
   ],
   "source": [
    "# Las listas se pueden manejar como los Strings, es decir, accediendo por índice\n",
    "frutas = [manzana, pera, naranja, uvas, melon, mango, fresa, platano]\n",
    "print(frutas)\n",
    "print(frutas[0])\n",
    "print(frutas[-3::-1])\n",
    "print(frutas[1:4])"
   ]
  },
  {
   "cell_type": "code",
   "execution_count": 19,
   "metadata": {},
   "outputs": [
    {
     "name": "stdout",
     "output_type": "stream",
     "text": [
      "['manzana', 'naranja', 'melon']\n"
     ]
    }
   ],
   "source": [
    "print(frutas[0:5:2])"
   ]
  },
  {
   "cell_type": "code",
   "execution_count": 68,
   "metadata": {},
   "outputs": [
    {
     "name": "stdout",
     "output_type": "stream",
     "text": [
      "['manzana', 'pera', 'naranja', 'uvas', 'melon', 'mango', 'fresa', 'platano']\n",
      "['manzana', 'PeRa', 'NARANJA', 'UVAS', 'melon', 'mango', 'fresa', 'platano']\n",
      "['manzana', 'melon', 'mango', 'fresa', 'platano']\n",
      "[]\n"
     ]
    }
   ],
   "source": [
    "# Las listas se pueden modificar, a diferencia de los Strings\n",
    "frutas = [manzana, pera, naranja, uvas, melon, mango, fresa, platano]\n",
    "print(frutas)\n",
    "\n",
    "# Modificar algunos elementos de la lista\n",
    "frutas[1:4] = ['PeRa', 'NARANJA', 'UVAS']\n",
    "print(frutas)\n",
    "\n",
    "# Eliminar algunos elementos de la lista\n",
    "frutas[1:4] = []\n",
    "print(frutas)\n",
    "\n",
    "# Eliminar todos los elementos de la lista\n",
    "frutas[:] = []\n",
    "print(frutas)"
   ]
  },
  {
   "cell_type": "markdown",
   "metadata": {},
   "source": [
    "### Métodos de las Listas"
   ]
  },
  {
   "cell_type": "code",
   "execution_count": 79,
   "metadata": {},
   "outputs": [
    {
     "name": "stdout",
     "output_type": "stream",
     "text": [
      "['manzana', 'pera', 'naranja', 'uvas']\n"
     ]
    }
   ],
   "source": [
    "# Declaración de una Lista\n",
    "frutas = [manzana, pera, naranja, uvas]\n",
    "print(frutas)"
   ]
  },
  {
   "cell_type": "code",
   "execution_count": 80,
   "metadata": {},
   "outputs": [
    {
     "name": "stdout",
     "output_type": "stream",
     "text": [
      "['manzana', 'pera', 'naranja']\n"
     ]
    }
   ],
   "source": [
    "frutas.pop()\n",
    "print(frutas)"
   ]
  },
  {
   "cell_type": "code",
   "execution_count": 32,
   "metadata": {},
   "outputs": [
    {
     "name": "stdout",
     "output_type": "stream",
     "text": [
      "['manzana', 'pera', 'naranja', 'uvas', 'melon']\n"
     ]
    }
   ],
   "source": [
    "# Añadir un elemento al final de la lista\n",
    "frutas.append(melon)\n",
    "print(frutas)"
   ]
  },
  {
   "cell_type": "code",
   "execution_count": 33,
   "metadata": {},
   "outputs": [
    {
     "name": "stdout",
     "output_type": "stream",
     "text": [
      "Borrado melon de la Lista\n",
      "['manzana', 'pera', 'naranja', 'uvas']\n"
     ]
    }
   ],
   "source": [
    "# Borrar el último elemento de la lista\n",
    "borrado = frutas.pop()\n",
    "print(\"Borrado \" + borrado + \" de la Lista\")\n",
    "print(frutas)"
   ]
  },
  {
   "cell_type": "code",
   "execution_count": 24,
   "metadata": {},
   "outputs": [
    {
     "name": "stdout",
     "output_type": "stream",
     "text": [
      "['manzana', 'naranja', 'uvas']\n"
     ]
    }
   ],
   "source": [
    "# Borrar un elemento de la lista por indice\n",
    "frutas.pop(1)\n",
    "print(frutas)"
   ]
  },
  {
   "cell_type": "code",
   "execution_count": 27,
   "metadata": {},
   "outputs": [
    {
     "data": {
      "text/plain": [
       "'manzana'"
      ]
     },
     "execution_count": 27,
     "metadata": {},
     "output_type": "execute_result"
    }
   ],
   "source": [
    "frutas.pop(0)"
   ]
  },
  {
   "cell_type": "code",
   "execution_count": 28,
   "metadata": {},
   "outputs": [
    {
     "name": "stdout",
     "output_type": "stream",
     "text": [
      "['naranja']\n"
     ]
    }
   ],
   "source": [
    "print(frutas)"
   ]
  },
  {
   "cell_type": "code",
   "execution_count": 29,
   "metadata": {},
   "outputs": [
    {
     "name": "stdout",
     "output_type": "stream",
     "text": [
      "[]\n"
     ]
    }
   ],
   "source": [
    "# Borrar un elemento de la lista por valor\n",
    "frutas.remove(naranja)\n",
    "print(frutas)"
   ]
  },
  {
   "cell_type": "code",
   "execution_count": 81,
   "metadata": {},
   "outputs": [
    {
     "name": "stdout",
     "output_type": "stream",
     "text": [
      "['manzana', 'pera', 'naranja', 'mango', 'fresa', 'platano']\n"
     ]
    }
   ],
   "source": [
    "# Extender una Lista con otra Lista\n",
    "mas_frutas = [mango, fresa, platano]\n",
    "frutas.extend(mas_frutas)\n",
    "print(frutas)"
   ]
  },
  {
   "cell_type": "code",
   "execution_count": 35,
   "metadata": {},
   "outputs": [
    {
     "name": "stdout",
     "output_type": "stream",
     "text": [
      "['fresa', 'mango', 'manzana', 'naranja', 'pera', 'platano', 'uvas']\n"
     ]
    }
   ],
   "source": [
    "# Ordenar los elementos de la Lista\n",
    "frutas.sort()\n",
    "print(frutas)"
   ]
  },
  {
   "cell_type": "code",
   "execution_count": 36,
   "metadata": {},
   "outputs": [
    {
     "name": "stdout",
     "output_type": "stream",
     "text": [
      "['uvas', 'platano', 'pera', 'naranja', 'manzana', 'mango', 'fresa']\n"
     ]
    }
   ],
   "source": [
    "# Invertir los elementos de la Lista\n",
    "frutas.reverse()\n",
    "print(frutas)"
   ]
  },
  {
   "cell_type": "code",
   "execution_count": 37,
   "metadata": {},
   "outputs": [
    {
     "name": "stdout",
     "output_type": "stream",
     "text": [
      "manzana , mango\n",
      "pera , fresa\n",
      "naranja , platano\n"
     ]
    }
   ],
   "source": [
    "# Combinar los elementos de 2 Listas\n",
    "frutas = [manzana, pera, naranja, uvas]\n",
    "mas_frutas = [mango, fresa, platano]\n",
    "for x,y in zip(frutas, mas_frutas):\n",
    "    print(x + \" , \" + y)"
   ]
  },
  {
   "cell_type": "markdown",
   "metadata": {},
   "source": [
    "## Tuplas\n",
    "\n",
    "Tuplas son similares a las listas, excepto que ellas no pueden ser modificadas una vez creadas, es decir, son *inmutables*. \n",
    "\n",
    "En Python, las tuplas son creadas usando la sintaxis `(..., ..., ...)`, o incluso `..., ...`:"
   ]
  },
  {
   "cell_type": "code",
   "execution_count": 38,
   "metadata": {},
   "outputs": [
    {
     "name": "stdout",
     "output_type": "stream",
     "text": [
      "(10, 20) <class 'tuple'>\n"
     ]
    }
   ],
   "source": [
    "punto = (10, 20)\n",
    "\n",
    "print(punto, type(punto))"
   ]
  },
  {
   "cell_type": "code",
   "execution_count": 39,
   "metadata": {},
   "outputs": [
    {
     "name": "stdout",
     "output_type": "stream",
     "text": [
      "(10, 20) <class 'tuple'>\n"
     ]
    }
   ],
   "source": [
    "punto = 10, 20\n",
    "\n",
    "print(punto, type(punto))"
   ]
  },
  {
   "cell_type": "markdown",
   "metadata": {},
   "source": [
    "Podemos separar una tupla asignandola a una lista de variables separadas por coma:"
   ]
  },
  {
   "cell_type": "code",
   "execution_count": 40,
   "metadata": {},
   "outputs": [
    {
     "name": "stdout",
     "output_type": "stream",
     "text": [
      "x = 10\n",
      "y = 20\n"
     ]
    }
   ],
   "source": [
    "x, y = punto\n",
    "\n",
    "print(\"x =\", x)\n",
    "print(\"y =\", y)"
   ]
  },
  {
   "cell_type": "markdown",
   "metadata": {},
   "source": [
    "Si intentamos asignar un nuevo valor a un elemento de una tupla obtenemos un error:"
   ]
  },
  {
   "cell_type": "code",
   "execution_count": 43,
   "metadata": {
    "scrolled": true
   },
   "outputs": [
    {
     "ename": "TypeError",
     "evalue": "'tuple' object does not support item assignment",
     "output_type": "error",
     "traceback": [
      "\u001b[1;31m---------------------------------------------------------------------------\u001b[0m",
      "\u001b[1;31mTypeError\u001b[0m                                 Traceback (most recent call last)",
      "\u001b[1;32m<ipython-input-43-c7635c5015f3>\u001b[0m in \u001b[0;36m<module>\u001b[1;34m\u001b[0m\n\u001b[1;32m----> 1\u001b[1;33m \u001b[0mpunto\u001b[0m\u001b[1;33m[\u001b[0m\u001b[1;36m0\u001b[0m\u001b[1;33m]\u001b[0m \u001b[1;33m=\u001b[0m \u001b[1;36m20\u001b[0m\u001b[1;33m\u001b[0m\u001b[1;33m\u001b[0m\u001b[0m\n\u001b[0m",
      "\u001b[1;31mTypeError\u001b[0m: 'tuple' object does not support item assignment"
     ]
    }
   ],
   "source": [
    "#punto[0] = 20"
   ]
  },
  {
   "cell_type": "code",
   "execution_count": 76,
   "metadata": {},
   "outputs": [
    {
     "name": "stdout",
     "output_type": "stream",
     "text": [
      "hola\n"
     ]
    }
   ],
   "source": [
    "tupla1=(3,\"hola\", 23, \"Maria\")\n",
    "print(tupla1[1])"
   ]
  },
  {
   "cell_type": "code",
   "execution_count": 56,
   "metadata": {},
   "outputs": [
    {
     "name": "stdout",
     "output_type": "stream",
     "text": [
      "(23, 'hola', 3)\n"
     ]
    }
   ],
   "source": [
    "print(tupla1[-2::-1])"
   ]
  },
  {
   "cell_type": "markdown",
   "metadata": {},
   "source": [
    "## Diccionarios\n",
    "\n",
    "Un Diccionario es una Lista de elementos (clave, valor).\n",
    "\n",
    "La sintaxis de los diccionarios es `{clave1 : valor1, ...}`:\n",
    "\n",
    "Los Diccionarios tienen las siguientes características:\n",
    "* La clave es inmutable\n",
    "* La lista de elementos no está ordenada"
   ]
  },
  {
   "cell_type": "code",
   "execution_count": 70,
   "metadata": {},
   "outputs": [
    {
     "name": "stdout",
     "output_type": "stream",
     "text": [
      "<class 'dict'>\n",
      "{'parametro1': 1.0, 'parametro2': 2.0, 'parametro3': 3.0}\n"
     ]
    }
   ],
   "source": [
    "# Declaración de un Diccionario\n",
    "dicc = {\"parametro1\" : 1.0,\n",
    "          \"parametro2\" : 2.0,\n",
    "          \"parametro3\" : 3.0,}\n",
    "\n",
    "print(type(dicc))\n",
    "print(dicc)"
   ]
  },
  {
   "cell_type": "code",
   "execution_count": 71,
   "metadata": {
    "scrolled": true
   },
   "outputs": [
    {
     "name": "stdout",
     "output_type": "stream",
     "text": [
      "(parametro2 , 2.0)\n"
     ]
    }
   ],
   "source": [
    "# Consulta de un Diccionario\n",
    "clave = \"parametro2\"\n",
    "# Si la clave no está en el diccionario provoca un error\n",
    "# clave = \"parametro4\"\n",
    "valor = dicc[clave]\n",
    "print(\"(\" + clave + \" , \" + str(valor) + \")\")"
   ]
  },
  {
   "cell_type": "code",
   "execution_count": 72,
   "metadata": {},
   "outputs": [
    {
     "data": {
      "text/plain": [
       "False"
      ]
     },
     "execution_count": 72,
     "metadata": {},
     "output_type": "execute_result"
    }
   ],
   "source": [
    "clave = \"parametro4\"\n",
    "clave in dicc"
   ]
  },
  {
   "cell_type": "code",
   "execution_count": 73,
   "metadata": {},
   "outputs": [
    {
     "name": "stdout",
     "output_type": "stream",
     "text": [
      "(parametro2 , 2.0)\n",
      "(parametro4 , None)\n",
      "\n",
      "Bucle para consultar el Diccionario:\n",
      "(parametro1 , 1.0)\n",
      "(parametro2 , 2.0)\n",
      "(parametro3 , 3.0)\n"
     ]
    }
   ],
   "source": [
    "# Consulta de un Diccionario mas segura\n",
    "clave = \"parametro2\"\n",
    "valor = dicc.get(clave)\n",
    "print(\"(\" + clave + \" , \" + str(valor) + \")\")\n",
    "\n",
    "clave = \"parametro4\"\n",
    "valor = dicc.get(clave)\n",
    "print(\"(\" + clave + \" , \" + str(valor) + \")\")\n",
    "\n",
    "print(\"\\nBucle para consultar el Diccionario:\")\n",
    "\n",
    "for clave, valor in dicc.items():\n",
    "    print(\"(\" + clave + \" , \" + str(valor) + \")\")"
   ]
  },
  {
   "cell_type": "code",
   "execution_count": 85,
   "metadata": {},
   "outputs": [
    {
     "name": "stdout",
     "output_type": "stream",
     "text": [
      "2.0\n",
      "<class 'dict_items'>\n"
     ]
    }
   ],
   "source": [
    "print(dicc[\"parametro2\"])"
   ]
  },
  {
   "cell_type": "code",
   "execution_count": 86,
   "metadata": {},
   "outputs": [
    {
     "name": "stdout",
     "output_type": "stream",
     "text": [
      "{'parametro1': 1.0, 'parametro2': 2.0, 'parametro3': 3.0, 'parametro4': 4.0}\n"
     ]
    }
   ],
   "source": [
    "# Añadir elementos a un Diccionario\n",
    "dicc[\"parametro4\"] = 4.0\n",
    "print(dicc)"
   ]
  },
  {
   "cell_type": "code",
   "execution_count": null,
   "metadata": {},
   "outputs": [],
   "source": [
    "# Borrar elementos de un Diccionario\n",
    "dicc.pop(\"parametro3\")\n",
    "print(dicc)"
   ]
  },
  {
   "cell_type": "code",
   "execution_count": 87,
   "metadata": {},
   "outputs": [
    {
     "name": "stdout",
     "output_type": "stream",
     "text": [
      "parametro1\n",
      "parametro2\n",
      "parametro3\n",
      "parametro4\n"
     ]
    }
   ],
   "source": [
    "# Iterar con un Diccionario\n",
    "for clave in dicc:\n",
    "    print(clave)"
   ]
  },
  {
   "cell_type": "code",
   "execution_count": null,
   "metadata": {},
   "outputs": [],
   "source": [
    "# Iterar con un Diccionario (clave, valor)\n",
    "for clave, valor in dicc.items():\n",
    "    print(\"(\" + clave + \" , \" + str(valor) + \")\")"
   ]
  },
  {
   "cell_type": "markdown",
   "metadata": {},
   "source": [
    "## Búcles\n",
    "\n",
    "En Python, los bucles (loops) puede ser programados de varias maneras diferentes. La forma más común es usando un cicle `for`, que se usa junto con objetos iterables, como por ejemplos las listas. "
   ]
  },
  {
   "cell_type": "code",
   "execution_count": null,
   "metadata": {
    "scrolled": true
   },
   "outputs": [],
   "source": [
    "for x in [1,2,3]:\n",
    "    print(x)"
   ]
  },
  {
   "cell_type": "markdown",
   "metadata": {},
   "source": [
    "El búcle `for` itera sobre los elementos de la lista suministrada y ejecuta el bloque suministrado una vez para cada elemento. Cualquier tipo de lista puede ser usada para un búcle `for`. Por ejemplo:"
   ]
  },
  {
   "cell_type": "code",
   "execution_count": null,
   "metadata": {},
   "outputs": [],
   "source": [
    "for x in range(7): # por defecto range comienza con 0 i termina en el n-1 en este caso 6\n",
    "    print(x)"
   ]
  },
  {
   "cell_type": "code",
   "execution_count": null,
   "metadata": {},
   "outputs": [],
   "source": [
    "# obre una finestra nova amb la ayuda de la funció, si executo help(range) ho mostra a la finestra on es crida\n",
    "range?\n"
   ]
  },
  {
   "cell_type": "markdown",
   "metadata": {},
   "source": [
    "Nota: `range(4)` no incluye el 4 !"
   ]
  },
  {
   "cell_type": "code",
   "execution_count": null,
   "metadata": {},
   "outputs": [],
   "source": [
    "for x in range(-3,3):\n",
    "    print(x)"
   ]
  },
  {
   "cell_type": "code",
   "execution_count": null,
   "metadata": {
    "scrolled": true
   },
   "outputs": [],
   "source": [
    "for palabra in [\"computación\", \"científica\", \"con\", \"Python\"]:\n",
    "    print(palabra)"
   ]
  },
  {
   "cell_type": "markdown",
   "metadata": {},
   "source": [
    "Para iterar sobre pares clave-valor en un diccionario:"
   ]
  },
  {
   "cell_type": "code",
   "execution_count": null,
   "metadata": {},
   "outputs": [],
   "source": [
    "for clave, valor in dicc.items():\n",
    "    print(clave + \" = \", valor)"
   ]
  },
  {
   "cell_type": "code",
   "execution_count": null,
   "metadata": {},
   "outputs": [],
   "source": [
    "type(valor)\n",
    "print(valor)\n",
    "int(valor)\n"
   ]
  },
  {
   "cell_type": "markdown",
   "metadata": {},
   "source": [
    "Algunas veces es útil tener acceso a los índices de los valores mientras se itera sobre una lista. Podemos usar la función `enumerate` para esto:"
   ]
  },
  {
   "cell_type": "code",
   "execution_count": null,
   "metadata": {
    "scrolled": true
   },
   "outputs": [],
   "source": [
    "for idx, x in enumerate(range(-5,5)):\n",
    "    print(idx, x)"
   ]
  },
  {
   "cell_type": "markdown",
   "metadata": {},
   "source": [
    "** Listas: Creando listas usando ciclos `for`**:\n",
    "\n",
    "Una forma conveniente y compacta de inicializar listas:"
   ]
  },
  {
   "cell_type": "code",
   "execution_count": null,
   "metadata": {},
   "outputs": [],
   "source": [
    "l1 = [x**2 for x in range(2,5)]\n",
    "\n",
    "print(l1)"
   ]
  },
  {
   "cell_type": "markdown",
   "metadata": {},
   "source": [
    "**Búcles `while`**:"
   ]
  },
  {
   "cell_type": "code",
   "execution_count": null,
   "metadata": {},
   "outputs": [],
   "source": [
    "i = 0\n",
    "\n",
    "while i < 3:\n",
    "    print(i)    \n",
    "    i = i + 1\n",
    "    \n",
    "print(\"listo\")"
   ]
  },
  {
   "cell_type": "markdown",
   "metadata": {},
   "source": [
    "Note que el comando`print(\"listo\")` no es parte del cuerpo del ciclo `while`, debido a su indentación."
   ]
  },
  {
   "cell_type": "markdown",
   "metadata": {},
   "source": [
    "## Funciones\n",
    "\n",
    "* Definición: se utiliza la palabra reservada **def** para definir funciones\n",
    "* Parámetros: se definen a continuación del nombre de función como una lista entre paréntesis.\n",
    "* Documentación: la primera sentencia del cuerpo de la función puede ser una cadena de texto para documentar la función"
   ]
  },
  {
   "cell_type": "code",
   "execution_count": null,
   "metadata": {},
   "outputs": [],
   "source": [
    "# Definición de la función para calcular el cuadrado de un número\n",
    "def cuadrado(x):\n",
    "    \"\"\"\n",
    "    Calcula el cuadrado de x sin equivocarse.\n",
    "    \"\"\"\n",
    "    return x**2"
   ]
  },
  {
   "cell_type": "code",
   "execution_count": null,
   "metadata": {},
   "outputs": [],
   "source": [
    "cuadrado(4)"
   ]
  },
  {
   "cell_type": "code",
   "execution_count": null,
   "metadata": {},
   "outputs": [],
   "source": [
    "help(cuadrado)"
   ]
  },
  {
   "cell_type": "code",
   "execution_count": 2,
   "metadata": {},
   "outputs": [],
   "source": [
    "# Definición de la función para calcular la serie de Fibonacci\n",
    "def fibonacci(n):\n",
    "    \"\"\"\n",
    "    Devuelve una lista conteniendo la serie de Fibonacci hasta n.\n",
    "    \"\"\"\n",
    "    resultado = []\n",
    "    a, b = 0, 1\n",
    "    while a < n:\n",
    "        resultado.append(a)\n",
    "        a, b = b, a+b\n",
    "    return resultado"
   ]
  },
  {
   "cell_type": "code",
   "execution_count": 3,
   "metadata": {},
   "outputs": [
    {
     "name": "stdout",
     "output_type": "stream",
     "text": [
      "[0, 1, 1, 2, 3, 5, 8, 13, 21, 34, 55, 89]\n"
     ]
    }
   ],
   "source": [
    "# Utilización de la función\n",
    "fib100 = fibonacci(100)\n",
    "print(fib100)"
   ]
  },
  {
   "cell_type": "code",
   "execution_count": 4,
   "metadata": {},
   "outputs": [
    {
     "name": "stdout",
     "output_type": "stream",
     "text": [
      "\n",
      "    Devuelve una lista conteniendo la serie de Fibonacci hasta n.\n",
      "    \n"
     ]
    }
   ],
   "source": [
    "# Ayuda de la función\n",
    "print(fibonacci.__doc__)"
   ]
  },
  {
   "cell_type": "code",
   "execution_count": 5,
   "metadata": {},
   "outputs": [
    {
     "name": "stdout",
     "output_type": "stream",
     "text": [
      "Help on function fibonacci in module __main__:\n",
      "\n",
      "fibonacci(n)\n",
      "    Devuelve una lista conteniendo la serie de Fibonacci hasta n.\n",
      "\n"
     ]
    }
   ],
   "source": [
    "help(fibonacci)"
   ]
  },
  {
   "cell_type": "markdown",
   "metadata": {},
   "source": [
    "### Argumentos por defecto y argumentos nominales\n",
    "\n",
    "En la definición de una función, podemos asignar valores por defecto a los argumentos de la función:"
   ]
  },
  {
   "cell_type": "code",
   "execution_count": null,
   "metadata": {},
   "outputs": [],
   "source": [
    "# paramentros pueden ser posicion o por parametro que si no los queremos utilizar no los ponemos\n",
    "def mifunc(x, p=2, debug=False):\n",
    "    if debug:\n",
    "        print(\"evaluando mifunc para x = \" + str(x) + \" usando el exponente p = \" + str(p))\n",
    "    return x**p"
   ]
  },
  {
   "cell_type": "markdown",
   "metadata": {},
   "source": [
    "Si no suministramos un valor para el argumento `debug` al llamar a la función `mifunc` se considera el valor definido por defecto:"
   ]
  },
  {
   "cell_type": "code",
   "execution_count": null,
   "metadata": {},
   "outputs": [],
   "source": [
    "mifunc(3)"
   ]
  },
  {
   "cell_type": "code",
   "execution_count": null,
   "metadata": {},
   "outputs": [],
   "source": [
    "mifunc(5, debug=True)"
   ]
  },
  {
   "cell_type": "markdown",
   "metadata": {},
   "source": [
    "Si listamos explícitamente el nombre de los argumentos al llamar una función, ellos no necesitan estar en el mismo orden usando en la definición de la función. Esto es llamado argumentos *de palabra clave* (keyword), y son a menudo muy útiles en funciones que requieren muchos argumentos opcionales."
   ]
  },
  {
   "cell_type": "code",
   "execution_count": null,
   "metadata": {},
   "outputs": [],
   "source": [
    "mifunc(p=3, debug=True, x=7)"
   ]
  },
  {
   "cell_type": "markdown",
   "metadata": {},
   "source": [
    "### Funciones sin nombre (funciones lambda)\n",
    "\n",
    "En Python podemos también crear funciones sin nombre, usando la palabra clave `lambda`:"
   ]
  },
  {
   "cell_type": "code",
   "execution_count": null,
   "metadata": {},
   "outputs": [],
   "source": [
    "f1 = lambda x: x**2\n",
    "    \n",
    "# es equivalente a \n",
    "\n",
    "def f2(x):\n",
    "    return x**2"
   ]
  },
  {
   "cell_type": "code",
   "execution_count": null,
   "metadata": {},
   "outputs": [],
   "source": [
    "f1(2), f2(2)"
   ]
  },
  {
   "cell_type": "markdown",
   "metadata": {},
   "source": [
    "Esta técnica es útil, por ejemplo, cuando queremos pasar una función simple como argumento de otra función, como en este caso:"
   ]
  },
  {
   "cell_type": "code",
   "execution_count": 9,
   "metadata": {},
   "outputs": [
    {
     "data": {
      "text/plain": [
       "<map at 0x1bd3e59a128>"
      ]
     },
     "execution_count": 9,
     "metadata": {},
     "output_type": "execute_result"
    }
   ],
   "source": [
    "# map es una función predefinida en Python\n",
    "map(lambda x: x**2, range(-3,4))"
   ]
  },
  {
   "cell_type": "code",
   "execution_count": 10,
   "metadata": {},
   "outputs": [
    {
     "data": {
      "text/plain": [
       "[9, 4, 1, 0, 1, 4, 9]"
      ]
     },
     "execution_count": 10,
     "metadata": {},
     "output_type": "execute_result"
    }
   ],
   "source": [
    "# in Python 3 podemos usar `list(...)` para convertir la iteración a una lista explícita\n",
    "list(map(lambda x: x**2, range(-3,4)))"
   ]
  },
  {
   "cell_type": "code",
   "execution_count": 6,
   "metadata": {},
   "outputs": [],
   "source": [
    "a = 3.2"
   ]
  },
  {
   "cell_type": "code",
   "execution_count": 7,
   "metadata": {},
   "outputs": [
    {
     "data": {
      "text/plain": [
       "3"
      ]
     },
     "execution_count": 7,
     "metadata": {},
     "output_type": "execute_result"
    }
   ],
   "source": [
    "int(a)"
   ]
  },
  {
   "cell_type": "code",
   "execution_count": 8,
   "metadata": {},
   "outputs": [
    {
     "data": {
      "text/plain": [
       "'3.2'"
      ]
     },
     "execution_count": 8,
     "metadata": {},
     "output_type": "execute_result"
    }
   ],
   "source": [
    "str(a)"
   ]
  },
  {
   "cell_type": "markdown",
   "metadata": {},
   "source": [
    "## Clases\n",
    "\n",
    "Las clases son una característica clave de la programación orientada al objeto. Una clase es una estructura para representar un objeto y las operaciones que pueden ser realizadas sobre el objeto. \n",
    "\n",
    "En Python una clase puede contener *atributos* (variables) y *métodos* (funciones).\n",
    "\n",
    "En Python una clase es definida casi como una función, pero usando la palabra clave `class`, y la definición de la clase usualmente contiene algunas definiciones de métodos (una función en una clase).\n",
    "\n",
    "* Cada método de una clase debería tener un argumento `self` como su primer argumento. Este objeto es una autoreferencia.\n",
    "\n",
    "* Algunos nombres de métodos de clases tienen un significado especial, por ejemplo:\n",
    "\n",
    " * `__init__`: El nombre del método que es invocado cuando el objeto es creado por primera vez.\n",
    " * `__str__` : Un método que es invocado cuando se necesita una simple representación de cadena de la clase, como por ejemplo cuando se imprime.\n",
    " * Existen muchas más, ver http://docs.python.org/2/reference/datamodel.html#special-method-names"
   ]
  },
  {
   "cell_type": "code",
   "execution_count": 12,
   "metadata": {},
   "outputs": [],
   "source": [
    "class Punto:\n",
    "    \"\"\"\n",
    "    Clase simple para representar un punto en un sistema de coordenadas cartesiano.\n",
    "    \"\"\"\n",
    "    \n",
    "    def __init__(self, x, y):\n",
    "        \"\"\"\n",
    "        Crea un nuevo punto en x, y.\n",
    "        \"\"\"\n",
    "        self.x = x\n",
    "        self.y = y\n",
    "        \n",
    "    def traslada(self, dx, dy):\n",
    "        \"\"\"\n",
    "        Traslada el punto en dx y dy en las direcciones x e y respectivamente.\n",
    "        \"\"\"\n",
    "        self.x += dx\n",
    "        self.y += dy\n",
    "        \n",
    "    def __str__(self):\n",
    "        return(\"Punto en [%f, %f]\" % (self.x, self.y))"
   ]
  },
  {
   "cell_type": "markdown",
   "metadata": {},
   "source": [
    "Para crear una nuva instancia de una clase:"
   ]
  },
  {
   "cell_type": "code",
   "execution_count": 13,
   "metadata": {},
   "outputs": [
    {
     "name": "stdout",
     "output_type": "stream",
     "text": [
      "Punto en [0.000000, 0.000000]\n"
     ]
    }
   ],
   "source": [
    "p1 = Punto(0, 0) # eso invoca el método __init__ en la cláse Punto\n",
    "\n",
    "print(p1)         # esto invoca el método __str__ "
   ]
  },
  {
   "cell_type": "markdown",
   "metadata": {},
   "source": [
    "Para invocar un método en la instancia de clase `p`:"
   ]
  },
  {
   "cell_type": "code",
   "execution_count": 14,
   "metadata": {},
   "outputs": [
    {
     "name": "stdout",
     "output_type": "stream",
     "text": [
      "Punto en [0.250000, 1.500000]\n",
      "Punto en [1.000000, 1.000000]\n"
     ]
    }
   ],
   "source": [
    "p2 = Punto(1, 1)\n",
    "\n",
    "p1.traslada(0.25, 1.5)\n",
    "\n",
    "print(p1)\n",
    "print(p2)"
   ]
  },
  {
   "cell_type": "markdown",
   "metadata": {},
   "source": [
    "Note que llamar a métodos de clases puede modificar el estado de esa instancia de clase particular, pero no afecta otras instancias de la clase o alguna otra variable global.\n",
    "\n",
    "Esto es una de las cosas buenas de un diseño orientado al objeto: código como las funciones y variables relacionadas son agrupadas en entidades separadas e independientes. "
   ]
  },
  {
   "cell_type": "markdown",
   "metadata": {},
   "source": [
    "## Módulos"
   ]
  },
  {
   "cell_type": "markdown",
   "metadata": {},
   "source": [
    "La mayoría de la funcionalidad en Python es provista por *módulos*. La Librería Estándar de Python es una gran colección de  módulos que proveen implementaciones *multiplataforma* de recursos tales como el acceso al sistema operativo, entrada/salido de archivos (file I/O), manejo de cadenas, comunicación en redes, y mucho más.\n",
    "\n",
    "Para usar un módulo en un programa Python éste debe primero ser **importado**. Un módulo puede ser importado usando el comando `import`. Por ejemplo, para importar el módulo `math`, que contiene muchas funciones matemáticas estándar, podemos usar:"
   ]
  },
  {
   "cell_type": "code",
   "execution_count": null,
   "metadata": {},
   "outputs": [],
   "source": [
    "import math"
   ]
  },
  {
   "cell_type": "markdown",
   "metadata": {},
   "source": [
    "Esto incluye el módulo completo y lo deja disponible para su uso en el programa. Por ejemplo, podemos escribir:"
   ]
  },
  {
   "cell_type": "code",
   "execution_count": 15,
   "metadata": {},
   "outputs": [
    {
     "name": "stdout",
     "output_type": "stream",
     "text": [
      "1.0\n"
     ]
    }
   ],
   "source": [
    "import math\n",
    "#llamada a las funciones de math si la importamos de la forma anterior\n",
    "\n",
    "x = math.cos(2 * math.pi)\n",
    "\n",
    "print(x)"
   ]
  },
  {
   "cell_type": "markdown",
   "metadata": {},
   "source": [
    "Alternativamente, podemos elegir importar todos los símbolos (funciones y variables) en un módulo al espacio de nombres (namespace) actual (de modo que no necesitemos usar el prefijo \"`math.`\" cada vez que usemos algo del módulo `math`:"
   ]
  },
  {
   "cell_type": "code",
   "execution_count": 16,
   "metadata": {},
   "outputs": [
    {
     "name": "stdout",
     "output_type": "stream",
     "text": [
      "1.0\n"
     ]
    }
   ],
   "source": [
    "from math import *\n",
    "\n",
    "x = cos(2 * pi)\n",
    "\n",
    "print(x)"
   ]
  },
  {
   "cell_type": "markdown",
   "metadata": {},
   "source": [
    "Esta forma de proceder puede ser muy conveniente, pero en programas largos que incluyen muchos módulos es a menudo una buena idea mantener los símbolos de cada módulo en sus propios espacios de nombres, usando `import math`. Esto elimina potenciales confusiones con eventuales colisiones de nombres.\n",
    "\n",
    "Como una tercera alternativa, podemos importar sólo algunos símbolos seleccionados desde un módulo listando explícitamente aquellos símbolos que deseamos importar, en lugar de usar el carácter comodín `*`:"
   ]
  },
  {
   "cell_type": "code",
   "execution_count": null,
   "metadata": {},
   "outputs": [],
   "source": [
    "from math import cos, pi\n",
    "\n",
    "x = cos(2 * pi)\n",
    "\n",
    "print(x)"
   ]
  },
  {
   "cell_type": "markdown",
   "metadata": {},
   "source": [
    "###  Mirando qué contiene un módulo, y su documentación"
   ]
  },
  {
   "cell_type": "markdown",
   "metadata": {},
   "source": [
    "Luego que se ha cargado un módulo, podemos listar los símbolos que éste provee usando la función `dir`:"
   ]
  },
  {
   "cell_type": "code",
   "execution_count": null,
   "metadata": {},
   "outputs": [],
   "source": [
    "# otra forma de importar evitando problemas de nombres, asignamos un alias a la libreria que importamos\n",
    "\n",
    "import math as m\n",
    "\n",
    "m.sqrt(4)"
   ]
  },
  {
   "cell_type": "code",
   "execution_count": null,
   "metadata": {},
   "outputs": [],
   "source": [
    "import math \n",
    "\n",
    "dir(math)"
   ]
  },
  {
   "cell_type": "markdown",
   "metadata": {},
   "source": [
    "Usando la función `help` podemos obtener una descripción de cada función (casi... no todas las funciones tienen *docstrings*, como se les llama técnicamente. Sin embargo, la mayoría de las funciones están documentadas de esta forma). "
   ]
  },
  {
   "cell_type": "code",
   "execution_count": 17,
   "metadata": {},
   "outputs": [
    {
     "name": "stdout",
     "output_type": "stream",
     "text": [
      "Help on built-in function log in module math:\n",
      "\n",
      "log(...)\n",
      "    log(x, [base=math.e])\n",
      "    Return the logarithm of x to the given base.\n",
      "    \n",
      "    If the base not specified, returns the natural logarithm (base e) of x.\n",
      "\n"
     ]
    }
   ],
   "source": [
    "help(math.log)"
   ]
  },
  {
   "cell_type": "code",
   "execution_count": 18,
   "metadata": {},
   "outputs": [
    {
     "data": {
      "text/plain": [
       "2.302585092994046"
      ]
     },
     "execution_count": 18,
     "metadata": {},
     "output_type": "execute_result"
    }
   ],
   "source": [
    "log(10) # calcula el logaritmo de 10 en base e"
   ]
  },
  {
   "cell_type": "code",
   "execution_count": 19,
   "metadata": {},
   "outputs": [
    {
     "data": {
      "text/plain": [
       "3.3219280948873626"
      ]
     },
     "execution_count": 19,
     "metadata": {},
     "output_type": "execute_result"
    }
   ],
   "source": [
    "log(10, 2) # calcula el logaritmo de 10 en base 2"
   ]
  },
  {
   "cell_type": "markdown",
   "metadata": {},
   "source": [
    "También podemos usar la función `help` directamente sobre los módulos: \n",
    "\n",
    "    help(math) \n",
    "\n",
    "Algunos módulos muy útiles de la librería estándar de Python son `os` (interfaz con el sistema operativo), `sys` (Parámetros y funciones específicas del sistema), `math` (funciones matem'aticas), `shutil` (operaciones con archivos), `subprocess`, `multiprocessing`, `threading`. \n",
    "\n",
    "Una lista completa de los módulos estándar para Python 2 y Python 3 está disponible (en inglés) en [http://docs.python.org/2/library/](http://docs.python.org/2/library/) y [http://docs.python.org/3/library/](http://docs.python.org/3/library/), respectivamente. Una versión en español está disponible en [http://pyspanishdoc.sourceforge.net/lib/lib.html](http://pyspanishdoc.sourceforge.net/lib/lib.html)."
   ]
  },
  {
   "cell_type": "markdown",
   "metadata": {},
   "source": [
    "## Excepciones\n",
    "\n",
    "En Python los errores son manejados con una construcción especial de lenguaje llamada \"Exceptions\" (excepciones). Cuando ocurre un error, una excepción puede ser hecha, que interrumpe el flujo normal del programa y retorna a algún otro lugar del código donde se definan los comandos try-except más cercanos.\n"
   ]
  },
  {
   "cell_type": "markdown",
   "metadata": {},
   "source": [
    "Para generar una excepción podemos usar el comando `raise`, que toma un argumento que debe ser una instancia de la clase  `BaseExpection` o una clase derivada de ella. "
   ]
  },
  {
   "cell_type": "code",
   "execution_count": null,
   "metadata": {},
   "outputs": [],
   "source": [
    "#raise Exception(\"descripción del error\")"
   ]
  },
  {
   "cell_type": "markdown",
   "metadata": {},
   "source": [
    "Un úso típico de las excepciones es para abortar funciones cuando ocurre algún error, por ejemplo:\n",
    "\n",
    "    def mi_funcion(argumentos):\n",
    "    \n",
    "        if not verify(argumentos):\n",
    "            raise Expection(\"Argumentos invalidos\")\n",
    "        \n",
    "        # el resto del código sigue aquí"
   ]
  },
  {
   "cell_type": "markdown",
   "metadata": {},
   "source": [
    "Para capturar los errores que son generados por funciones y métodos de clases, o por el mismo intérprete Python, use los comandos `try` y `except`:\n",
    "\n",
    "    try:\n",
    "        # aquí va el código normal\n",
    "    except:\n",
    "        # el código para manejar el error va aquí\n",
    "        # Este código no se ejecuta a menos que \n",
    "        # el código de arriba genere un error\n",
    "\n",
    "Por ejemplo:"
   ]
  },
  {
   "cell_type": "code",
   "execution_count": null,
   "metadata": {},
   "outputs": [],
   "source": [
    "try:\n",
    "    print(\"test\")\n",
    "    # genera un error: ya que la variable test no está definida\n",
    "    print(test)\n",
    "except:\n",
    "    print(\"Encontré una excepción\")"
   ]
  },
  {
   "cell_type": "markdown",
   "metadata": {},
   "source": [
    "Para obtener información sobre un error, podemos accesar la instancia de clase `Exception` que describe la excepción usando por ejemplo:\n",
    "\n",
    "    except Exception as e:"
   ]
  },
  {
   "cell_type": "code",
   "execution_count": null,
   "metadata": {},
   "outputs": [],
   "source": [
    "try:\n",
    "    print(\"test\")\n",
    "    # genera un error: ya que la variable test no está definida\n",
    "    print(test)\n",
    "except Exception as e:\n",
    "    print(\"Encontré una excepción:\" + str(e))"
   ]
  },
  {
   "cell_type": "markdown",
   "metadata": {},
   "source": [
    "# Calculadora Interactiva (Ejercicio)"
   ]
  },
  {
   "cell_type": "code",
   "execution_count": null,
   "metadata": {
    "scrolled": true
   },
   "outputs": [],
   "source": [
    "#a = input()\n",
    "#print(\"a: \", a)"
   ]
  },
  {
   "cell_type": "markdown",
   "metadata": {},
   "source": [
    "## Lectura adicional\n",
    "\n",
    "* [http://www.python.org](http://www.python.org) - The official web page of the Python programming language.\n",
    "* [http://www.python.org/dev/peps/pep-0008](http://www.python.org/dev/peps/pep-0008) - Guía de estilo para la programación en Python. Altamente recomendada (en inglés).\n",
    "* [http://www.greenteapress.com/thinkpython/](http://www.greenteapress.com/thinkpython/) - Un libro gratuito sobre Python.\n",
    "* [Python Essential Reference](http://www.amazon.com/Python-Essential-Reference-4th-Edition/dp/0672329786) - Un buen libro de referencia sobre programación en Python."
   ]
  },
  {
   "cell_type": "markdown",
   "metadata": {},
   "source": [
    "### Versiones"
   ]
  },
  {
   "cell_type": "code",
   "execution_count": 20,
   "metadata": {},
   "outputs": [],
   "source": [
    "import sys\n",
    "import IPython"
   ]
  },
  {
   "cell_type": "code",
   "execution_count": 21,
   "metadata": {},
   "outputs": [
    {
     "name": "stdout",
     "output_type": "stream",
     "text": [
      "Este notebook fue evaluado con: Python 3.7.3 (default, Mar 27 2019, 17:13:21) [MSC v.1915 64 bit (AMD64)] y IPython 7.4.0.\n"
     ]
    }
   ],
   "source": [
    "print(\"Este notebook fue evaluado con: Python %s y IPython %s.\" % (sys.version, IPython.__version__))"
   ]
  },
  {
   "cell_type": "code",
   "execution_count": null,
   "metadata": {},
   "outputs": [],
   "source": []
  }
 ],
 "metadata": {
  "kernelspec": {
   "display_name": "Python 3",
   "language": "python",
   "name": "python3"
  },
  "language_info": {
   "codemirror_mode": {
    "name": "ipython",
    "version": 3
   },
   "file_extension": ".py",
   "mimetype": "text/x-python",
   "name": "python",
   "nbconvert_exporter": "python",
   "pygments_lexer": "ipython3",
   "version": "3.7.3"
  }
 },
 "nbformat": 4,
 "nbformat_minor": 1
}
